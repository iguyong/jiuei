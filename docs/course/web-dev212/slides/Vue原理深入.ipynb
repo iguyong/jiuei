{
 "cells": [
  {
   "cell_type": "markdown",
   "id": "b46c3383",
   "metadata": {},
   "source": [
    "* [数据双向绑定原理及实现](https://www.cnblogs.com/libin-1/p/6893712.html)\n",
    "* [Vue响应式原理（双向绑定的原理）](https://blog.csdn.net/tangxiujiang/article/details/79594860)\n",
    "* [vue 和 react发展史、设计思想及维度](https://blog.csdn.net/m0_38134431/article/details/115471634)"
   ]
  }
 ],
 "metadata": {
  "kernelspec": {
   "display_name": "Python 3",
   "language": "python",
   "name": "python3"
  },
  "language_info": {
   "codemirror_mode": {
    "name": "ipython",
    "version": 3
   },
   "file_extension": ".py",
   "mimetype": "text/x-python",
   "name": "python",
   "nbconvert_exporter": "python",
   "pygments_lexer": "ipython3",
   "version": "3.8.8"
  }
 },
 "nbformat": 4,
 "nbformat_minor": 5
}
