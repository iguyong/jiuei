{
 "cells": [
  {
   "cell_type": "markdown",
   "id": "0c2d2a17",
   "metadata": {},
   "source": [
    "<div class=\"title\">组件深入</div>\n",
    "\n",
    "1. props\n",
    "1. 组件事件(Component events)\n",
    "1. Fallthrough Attributes\n",
    "1. 插槽(Slots)\n",
    "1. Provide/inject\n",
    "1. Async Components"
   ]
  },
  {
   "cell_type": "markdown",
   "id": "46734a2e",
   "metadata": {
    "slideshow": {
     "slide_type": "slide"
    }
   },
   "source": [
    "# props\n",
    "## prop参数声明\n",
    "prop属性用于给子组件**实例**传递参数，需要在组件的props选项中声明\n",
    "- 该声明可以类比构造函数的形参，用于构造（实例化）子组件实例\n",
    "- 我们也可以称prop属性为prop参数\n",
    "\n",
    "```js\n",
    "export default {\n",
    "  props: ['foo'],  // prop参数声明，一个字符串数组，每个字符串是一个参数名称\n",
    "  created() {\n",
    "    // props are exposed on `this`\n",
    "    console.log(this.foo)\n",
    "  }\n",
    "}\n",
    "```\n",
    "在组件中，需要用`this`来访问该参数，因为该参数是组件实例的，不是组件的 (类比在c++的类方法中访问成员变量）"
   ]
  },
  {
   "cell_type": "markdown",
   "id": "b1d3560f",
   "metadata": {
    "slideshow": {
     "slide_type": "slide"
    }
   },
   "source": [
    "除了字符串数组外，props选项还可以是一个Object\n",
    "```js\n",
    "export default {\n",
    "  props: {\n",
    "    title: String,\n",
    "    likes: Number\n",
    "  }\n",
    "}\n",
    "```\n",
    "该props Object中，每个属性对应一个参数\n",
    "- 属性名称是参数名称，属性值是参数类型（本质上是参数类型的构造函数）\n",
    "- 参数类型可以使得组件的参数更容易理解，还可以做prop类型验证（使用者传递错误的参数类型会触发警告）"
   ]
  },
  {
   "cell_type": "markdown",
   "id": "ed7545db",
   "metadata": {
    "slideshow": {
     "slide_type": "slide"
    }
   },
   "source": [
    "## prop参数传递细节\n",
    "prop参数名称是一个字符串，理论上任意的字符串都可以用。为了方便，一般用camelCase(驼峰法）命名。\n",
    "\n",
    "```js\n",
    "export default {\n",
    "  props: {\n",
    "    greetingMessage: String //声明时，作为属性名称，驼峰法名称写起来方便，不需要双引号\n",
    "  }\n",
    "}\n",
    "```\n",
    "```html\n",
    "<span>{{ greetingMessage }}</span>\n",
    "\n",
    "<!-- 在非In-DOM写法中，驼峰法名称也可以直接写，不过习惯上还是会转换成连字符法（在In-DOM写法中则必须转换）-->\n",
    "<MyComponent greeting-message=\"hello\" /> \n",
    "```\n",
    "\n",
    "在可以的情况下，组件名称标签尽量用PascalCase写法，并且写成自关闭标签，这样可以提高易读性，很容易区分自定义Vue组件和原生的html元素。但是参数传递没有这样的好处。"
   ]
  },
  {
   "cell_type": "markdown",
   "id": "f7d5141e",
   "metadata": {
    "slideshow": {
     "slide_type": "slide"
    }
   },
   "source": [
    "## 静态 vs. 动态 props\n",
    "参数传递是在组件实例化时，以设置html属性的方式进行的。既然是html属性设置，那么可以是静态，也可以是动态\n",
    "- 静态时会解析成字符串\n",
    "- 动态时会解析成JS表达式（将引号内部看作JS代码）\n",
    "\n",
    "```html\n",
    "<BlogPost title=\"My journey with Vue\" />\n",
    "\n",
    "<!-- Dynamically assign the value of a variable -->\n",
    "<BlogPost :title=\"post.title\" />\n",
    "\n",
    "<!-- Dynamically assign the value of a complex expression -->\n",
    "<BlogPost :title=\"post.title + ' by ' + post.author.name\" />\n",
    "```"
   ]
  },
  {
   "cell_type": "markdown",
   "id": "97008993",
   "metadata": {
    "slideshow": {
     "slide_type": "slide"
    }
   },
   "source": [
    "## 参数类型\n",
    "参数的类型不限于字符串类型，可以是任意JS类型，例如布尔类型\n",
    "```html\n",
    "<!-- 参数若是没有值，默认为 `true`. -->\n",
    "<BlogPost is-published />\n",
    "\n",
    "<!--  注意这里需要用动态绑定，否则会解析成字符串 -->\n",
    "<BlogPost :is-published=\"false\" />\n",
    "\n",
    "<!-- 动态绑定到某个变量上 -->\n",
    "<BlogPost :is-published=\"post.isPublished\" />\n",
    "```"
   ]
  },
  {
   "cell_type": "markdown",
   "id": "c4a62f14",
   "metadata": {
    "slideshow": {
     "slide_type": "slide"
    }
   },
   "source": [
    "例如数组、对象\n",
    "```html\n",
    "<BlogPost :comment-ids=\"[234, 266, 273]\" />\n",
    "\n",
    "<BlogPost :comment-ids=\"post.commentIds\" />\n",
    "<BlogPost\n",
    "  :author=\"{\n",
    "    name: 'Veronica',\n",
    "    company: 'Veridian Dynamics'\n",
    "  }\"\n",
    " />\n",
    "\n",
    "<BlogPost :author=\"post.author\" />\n",
    "```"
   ]
  },
  {
   "cell_type": "markdown",
   "id": "f9547e9e",
   "metadata": {
    "slideshow": {
     "slide_type": "slide"
    }
   },
   "source": [
    "`v-bind`（动态绑定）可以不带参数，用来同时绑定多个属性（之前学的是html自带属性，这里的prop属性也可以）\n",
    "\n",
    "```js\n",
    "export default {\n",
    "  data() {\n",
    "    return {\n",
    "      post: {\n",
    "        id: 1,\n",
    "        title: 'My Journey with Vue'\n",
    "      }\n",
    "    }\n",
    "  }\n",
    "}\n",
    "```\n",
    "以下两种绑定是等价的\n",
    "```html\n",
    "<BlogPost v-bind=\"post\" />\n",
    "<BlogPost :id=\"post.id\" :title=\"post.title\" />\n",
    "```"
   ]
  },
  {
   "cell_type": "markdown",
   "id": "f350ddc7",
   "metadata": {
    "slideshow": {
     "slide_type": "slide"
    }
   },
   "source": [
    "## 单向数据流动\n",
    "prop参数传递是一种单向数据绑定\n",
    "- 响应性：若父组件的实参发生变化，传到子组件中的形参也会相应的更新\n",
    "- 单向：反过来，改变子组件中的形参不会影响父组件的实参\n",
    "\n",
    "注意：父组件的每次更新都会使得子组件的形参更新，因此改变子组件中的形参没有意义（Vue会在控制台中发出警告）\n",
    "```js\n",
    "export default {\n",
    "  props: ['foo'],\n",
    "  created() {\n",
    "    // ❌ warning, props are readonly!\n",
    "    this.foo = 'bar'\n",
    "  }\n",
    "}\n",
    "```"
   ]
  },
  {
   "cell_type": "markdown",
   "id": "094841ff",
   "metadata": {
    "slideshow": {
     "slide_type": "slide"
    }
   },
   "source": [
    "然而，经常会出现让人想在子组件中改变prop参数的情形\n",
    "1. prop参数用作一个初始值来初始化子组件，随后子组件想将该prop属性当作一个普通的本地数据属性\n",
    "    - 这种情形下，可以将prop参数赋值给另一个本地变量\n",
    "    \n",
    "```js\n",
    "export default {\n",
    "  props: ['initialCounter'],\n",
    "  data() {\n",
    "    return {\n",
    "      // 这里只将prop参数 this.initialCounter 当作一个初始值\n",
    "      // 将该参数值赋值给另一个变量，可以断开与prop参数的绑定\n",
    "      counter: this.initialCounter\n",
    "    }\n",
    "  }\n",
    "}\n",
    "```"
   ]
  },
  {
   "cell_type": "markdown",
   "id": "6786aacf",
   "metadata": {
    "slideshow": {
     "slide_type": "slide"
    }
   },
   "source": [
    "2. prop参数当作一个原始值，该值需要做一些转换\n",
    "    - 这种情形下，可以使用计算属性\n",
    "    \n",
    " ```js\n",
    "export default {\n",
    "  props: ['size'],\n",
    "  computed: {\n",
    "    // computed property that auto-updates when the prop changes\n",
    "    normalizedSize() {\n",
    "      return this.size.trim().toLowerCase()\n",
    "    }\n",
    "  }\n",
    "}\n",
    "```"
   ]
  },
  {
   "cell_type": "markdown",
   "id": "80e5253e",
   "metadata": {
    "slideshow": {
     "slide_type": "slide"
    }
   },
   "source": [
    "注意，以上所说的（在子组件中）改变prop参数是指改变prop参数本身，不包括改变prop参数的内部属性。\n",
    "\n",
    "换句话说，如果prop参数是Array或Object类型，那么是可以（在子组件中）改变prop参数的。这是因为JS的Array和Object是引用传递，如果Vue想防止这种深层次的改变会有很大的开销，因此不会发生警告，需要作者自行避免。\n",
    "\n",
    "这种深层次改变会造成不好的结果：子组件会在父组件的不知情的情况下，改变父组件的状态，可能会触发其它意料之外的更新（尤其是在该状态是响应式状态的情况下）。\n",
    "\n",
    "最好的方法是：\n",
    "- 避免这种改变，除非想故意使得父组件与子组件紧密地耦合。\n",
    "- 子组件应该发出(emit)一个事件给父组件，让父组件来改变"
   ]
  },
  {
   "cell_type": "markdown",
   "id": "673ba90e",
   "metadata": {
    "slideshow": {
     "slide_type": "slide"
    }
   },
   "source": [
    "## prop参数验证\n",
    "组件可以指定对参数的要求\n",
    "- 例如之前讲的参数的类型\n",
    "- 若是要求没满足，Vue会在控制台发生警告（development模式下）\n",
    "- 参数验证是在组件实例创建之前，不能使用组件的属性（例如`data`,`computed`）\n",
    "\n",
    "```js\n",
    "export default {\n",
    "  props: {\n",
    "    // 基本的类型验证\n",
    "    //  (`null` 和 `undefined` 允许所有类型)\n",
    "    propA: Number,\n",
    "    // 多个允许的类型\n",
    "    propB: [String, Number],\n",
    "    // Required string\n",
    "    propC: {\n",
    "      type: String,\n",
    "      required: true // 要求每个参数非空（默认是允许为空，若为空，其实为undefined）\n",
    "    },\n",
    "    // Number with a default value\n",
    "    propD: {\n",
    "      type: Number,\n",
    "      default: 100  // 提供一个默认值，用于参数为空或参数的值为undefined\n",
    "    },\n",
    "```\n",
    "      "
   ]
  },
  {
   "cell_type": "markdown",
   "id": "8318d2d8",
   "metadata": {
    "slideshow": {
     "slide_type": "slide"
    }
   },
   "source": [
    "```js\n",
    "    propE: {\n",
    "      type: Object,\n",
    "      // Object和Array类型的默认值需要从一个工厂函数(名称为default)获得\n",
    "      // 该函数有一个参数\n",
    "      default(rawProps) {\n",
    "        return { message: 'hello' }\n",
    "      }\n",
    "    },\n",
    "    // 自定义一个“验证函数”，函数名称为validator, 该函数返回一个bool值来指示验证是否成功\n",
    "    propF: {\n",
    "      validator(value) {\n",
    "        return ['success', 'warning', 'danger'].includes(value)\n",
    "      }\n",
    "    },\n",
    "    // 若参数是Function类型, defalut函数即为默认的prop参数的值\n",
    "    propG: {\n",
    "      type: Function,\n",
    "      default() {\n",
    "        return 'Default function'\n",
    "      }\n",
    "    }\n",
    "  }\n",
    "}\n",
    "```"
   ]
  },
  {
   "cell_type": "markdown",
   "id": "a5446b0b",
   "metadata": {
    "slideshow": {
     "slide_type": "slide"
    }
   },
   "source": [
    "Runtime类型验证：\n",
    "- 数据类型可以是以下几种JS原生的Constructor\n",
    "`String`, `Number`, `Boolean`, `Array`, `Object`, `Date`, `Function`, `Symbol`\n",
    "- 也可以是自定义的constructor(或class), 验证是基于 instanceof 执行\n",
    "\n",
    "```js\n",
    "class Person {\n",
    "  constructor(firstName, lastName) {\n",
    "    this.firstName = firstName\n",
    "    this.lastName = lastName\n",
    "  }\n",
    "}\n",
    "export default {\n",
    "  props: {\n",
    "    author: Person\n",
    "  }\n",
    "}\n",
    "```"
   ]
  },
  {
   "cell_type": "markdown",
   "id": "b7ec2bdf",
   "metadata": {
    "slideshow": {
     "slide_type": "slide"
    }
   },
   "source": [
    "## Bool类型转换\n",
    "布尔类型prop参数有特殊的转换规则，来模拟html原生的布尔类型的attribute\n",
    "\n",
    "```js\n",
    "export default {\n",
    "  props: {\n",
    "    disabled: Boolean\n",
    "  }\n",
    "}\n",
    "```\n",
    "\n",
    "```html\n",
    "<!-- 等价于 :disabled=\"true\" -->\n",
    "<MyComponent disabled />\n",
    "\n",
    "<!-- 等价于 :disabled=\"false\" -->\n",
    "<MyComponent />\n",
    "```"
   ]
  },
  {
   "cell_type": "markdown",
   "id": "0f23eab4-da7b-4ea8-b1c2-f427ba7bddf0",
   "metadata": {},
   "source": [
    "# 组件事件(Component Events)\n",
    "## 自定义事件\n",
    "组件中可以使用`$emit(someEvent)`发出一个自定义事件\n",
    "\n",
    "```html\n",
    "<!-- MyComponent -->\n",
    "<button @click=\"$emit('someEvent')\">click me</button>\n",
    "```\n",
    "或者在组件中使用`this.$emit(eventName)`\n",
    "\n",
    "在父组件中可以监听该事件\n",
    "\n",
    "```html\n",
    "<MyComponent @some-event=\"callback\" />\n",
    "```"
   ]
  },
  {
   "cell_type": "markdown",
   "id": "0c527db8-f184-471b-876e-f3ea9f8ecd61",
   "metadata": {},
   "source": [
    "可以带上参数`$emit(someEvent, arg1)`\n",
    "\n",
    "```html\n",
    "<!-- MyButton Component -->\n",
    "<button @click=\"$emit('increaseBy', 1)\">\n",
    "  add 1\n",
    "</button>\n",
    "```\n",
    "\n",
    "```html\n",
    "<MyButton @increase-by=\"(n) => count += n\" />\n",
    "```\n",
    "\n",
    "可以带多个参数：`$emit('foo', 1, 2, 3)`"
   ]
  },
  {
   "cell_type": "markdown",
   "id": "55d2b3b0-e840-4ee7-baa9-355553220624",
   "metadata": {},
   "source": [
    "推荐使用`emits`选项来声明所有组件发出的事件，不是必须的\n",
    "- 好处：易读（文档），可用来排除Fallthrough Attributes\n",
    "\n",
    "```js\n",
    "export default {\n",
    "  emits: ['inFocus', 'submit']\n",
    "}\n",
    "```\n",
    "`emits`选项还可以用来验证事件\n",
    "```js\n",
    "export default {\n",
    "  emits: {\n",
    "    submit(payload) {\n",
    "      // return `true` or `false` to indicate\n",
    "      // validation pass / fail\n",
    "    }\n",
    "  }\n",
    "}\n",
    "```"
   ]
  },
  {
   "cell_type": "markdown",
   "id": "cedf84fe-28c0-42e5-a7fe-df2ae4d06752",
   "metadata": {},
   "source": [
    "```js\n",
    "export default {\n",
    "  emits: {\n",
    "    // No validation\n",
    "    click: null,\n",
    "\n",
    "    // Validate submit event\n",
    "    submit: ({ email, password }) => {\n",
    "      if (email && password) {\n",
    "        return true\n",
    "      } else {\n",
    "        console.warn('Invalid submit event payload!')\n",
    "        return false\n",
    "      }\n",
    "    }\n",
    "  },\n",
    "  methods: {\n",
    "    submitForm(email, password) {\n",
    "      this.$emit('submit', { email, password })\n",
    "    }\n",
    "  }\n",
    "}\n",
    "```"
   ]
  },
  {
   "cell_type": "markdown",
   "id": "133f7af2-1fe0-46ca-b6eb-c6510e425eae",
   "metadata": {},
   "source": [
    "## 使用v-model\n",
    "自定义事件可用来创建自定义的、使用v-model的输入(input)\n",
    "\n",
    "```html\n",
    "<input v-model=\"searchText\" />\n",
    "```\n",
    "等价于\n",
    "\n",
    "```html\n",
    "<input\n",
    "  :value=\"searchText\"\n",
    "  @input=\"searchText = $event.target.value\"\n",
    "/>\n",
    "```"
   ]
  },
  {
   "cell_type": "markdown",
   "id": "5bd755db-6190-4947-9bc2-b56922239f21",
   "metadata": {},
   "source": [
    "用于组件时\n",
    "\n",
    "```html\n",
    "<CustomInput v-model=\"searchText\" />\n",
    "```\n",
    "等价于\n",
    "```html\n",
    "<CustomInput\n",
    "  :modelValue=\"searchText\"\n",
    "  @update:modelValue=\"newValue => searchText = newValue\"\n",
    "/>\n",
    "```\n",
    "因此，组件中的 `<input>` 必须:\n",
    "- 将 `value` 属性(attribute)绑定到 modelValue属性(prop)\n",
    "- 有输入时发出一个 `update:modelValue` 事件，并带上输入值作为参数"
   ]
  },
  {
   "cell_type": "markdown",
   "id": "fa8da3a6-797f-4496-bdf7-19b59241b34e",
   "metadata": {},
   "source": [
    "```html\n",
    "<!-- CustomInput.vue -->\n",
    "<script>\n",
    "export default {\n",
    "  props: ['modelValue'],\n",
    "  emits: ['update:modelValue']\n",
    "}\n",
    "</script>\n",
    "\n",
    "<template>\n",
    "  <input\n",
    "    :value=\"modelValue\"\n",
    "    @input=\"$emit('update:modelValue', $event.target.value)\"\n",
    "  />\n",
    "</template>\n",
    "```"
   ]
  },
  {
   "cell_type": "markdown",
   "id": "f1d8d1ee-8778-4543-b4a4-abb95bad6c70",
   "metadata": {},
   "source": [
    "另一种方法是使用计算属性\n",
    "```html\n",
    "<!-- CustomInput.vue -->\n",
    "<script>\n",
    "export default {\n",
    "  props: ['modelValue'],\n",
    "  emits: ['update:modelValue'],\n",
    "  computed: {\n",
    "    value: {\n",
    "      get() {\n",
    "        return this.modelValue\n",
    "      },\n",
    "      set(value) {\n",
    "        this.$emit('update:modelValue', value)\n",
    "      }\n",
    "    }\n",
    "  }\n",
    "}\n",
    "</script>\n",
    "\n",
    "<template>\n",
    "  <input v-model=\"value\" />\n",
    "</template>\n",
    "```"
   ]
  },
  {
   "cell_type": "markdown",
   "id": "afe458a1-2493-4267-9e41-eb43aa66224a",
   "metadata": {},
   "source": [
    "上面的名字`modelValue`可以通过`v-model`参数来改变\n",
    "\n",
    "```html\n",
    "<MyComponent v-model:title=\"bookTitle\" />\n",
    "```\n",
    "\n",
    "```html\n",
    "<!-- MyComponent.vue -->\n",
    "<script>\n",
    "export default {\n",
    "  props: ['title'],\n",
    "  emits: ['update:title']\n",
    "}\n",
    "</script>\n",
    "\n",
    "<template>\n",
    "  <input\n",
    "    type=\"text\"\n",
    "    :value=\"title\"\n",
    "    @input=\"$emit('update:title', $event.target.value)\"\n",
    "  />\n",
    "</template>\n",
    "```"
   ]
  },
  {
   "cell_type": "markdown",
   "id": "048a6c60-3233-4a70-ba81-d5767151b49b",
   "metadata": {},
   "source": [
    "单个组件实例上可以使用多个`v-model`\n",
    "\n",
    "```html\n",
    "<UserName\n",
    "  v-model:first-name=\"firstName\"\n",
    "  v-model:last-name=\"lastName\"\n",
    "/>\n",
    "```\n",
    "\n",
    "可以使用自定义修饰符\n",
    "\n",
    "```html\n",
    "<MyComponent v-model.capitalize=\"myText\" />\n",
    "```\n",
    "参考：[Vue Events](https://vuejs.org/guide/components/events.html)"
   ]
  },
  {
   "cell_type": "markdown",
   "id": "454a3be3-cb30-4b91-b776-872385419588",
   "metadata": {},
   "source": [
    "# Fallthrough Attributes\n",
    "组件实例化时，可以使用html属性给子组件传递数据：props和emits\n",
    "\n",
    "除了props和emits外，其它属性也可以这样传递，叫做fallthrough attributes属性：\n",
    "- 常见的属性有`class`, `style`, `id`\n",
    "- 还有`v-on`事件监听器\n",
    "\n",
    "(1) 若是子组件渲染的是<mark>一个元素</mark>（button），那么fallthrough属性会传给该元素(button)\n",
    "\n",
    "```html\n",
    "<!-- template of <MyButton> -->\n",
    "<button>click me</button>\n",
    "\n",
    "<!-- 在父组件(假设叫Root)模板中使用(实例化）子组件 -->\n",
    "<MyButton class=\"large\" />\n",
    "```\n",
    "以上代码最后渲染成：\n",
    "\n",
    "```html\n",
    "<button class=\"large\">click me</button>\n",
    "```"
   ]
  },
  {
   "cell_type": "markdown",
   "id": "3137397c-8f16-4498-b62f-ef093aff3b13",
   "metadata": {},
   "source": [
    "可以理解为子组件(MyButton)“继承”父组件（Root)的属性\n",
    "\n",
    "对于`class`和`style`属性，子组件本身的属性会与继承自父组件的属性“合并”\n",
    "\n",
    "若以上的子组件MyButton的模板如下：\n",
    "```html\n",
    "<!-- template of <MyButton> -->\n",
    "<button class=\"btn\">click me</button>\n",
    "```\n",
    "\n",
    "最终会渲染成\n",
    "\n",
    "```html\n",
    "<button class=\"btn large\">click me</button>\n",
    "```\n",
    "\n",
    "`v-on`事件监听器也会“合并”: 两个监听器都会触发"
   ]
  },
  {
   "cell_type": "markdown",
   "id": "b9b69221-7c72-43d4-9eb3-d9b9e6dbd3a4",
   "metadata": {},
   "source": [
    "(2) 若是子组件(MyButton)渲染<mark>一个组件</mark>(BaseButton), 那么 falltrhough属性会”自动转发“给该组件(BaseButton)\n",
    "\n",
    "```html\n",
    "<!-- template of MyButton -->\n",
    "<BaseButton />\n",
    "```\n",
    "注意：\n",
    "- 若是多层嵌套，则会一直向“里面“转发\n",
    "- 声明成props的属性或emits的事件监听器不是fallthough属性，若是某个中间组件将某个转发的fallthrough属性声明成props或emits, 那么该属性会被它”吃掉“，不会再往里面转发了\n",
    "\n",
    "- 若想禁止某个组件”自动“继承父组件的fallthrough属性，可以在该组件定义中设置`inheritAttrs: false`选项"
   ]
  },
  {
   "cell_type": "markdown",
   "id": "78f22bcd-0121-4870-a87b-350197456170",
   "metadata": {},
   "source": [
    "`$attrs` object 包括了所有的fallthrough属性，子组件可以通过该对象来访问继承自父组件的fallthrough属性\n",
    "- 在子组件的模板中直接使用`$attrs`, 在组件方法中使用`this.$attrs`\n",
    "- 一般的属性直接用原名（html属性名称)访问，不要做case转换；`v-on`事件监听器需要在名字前加个`on`\n",
    "\n",
    "```html\n",
    "<span>Fallthrough attributes: {{ $attrs }}</span>\n",
    "```\n",
    "\n",
    "若子组件中想继承父组件属性的不是顶层元素，而是内部的元素，可以使用`inheritAttrs: false`与`v-bind=\"$attrs\"`来实现”跳过“继承\n",
    "```html\n",
    "<div class=\"btn-wrapper\">\n",
    "  <button class=\"btn\" v-bind=\"$attrs\">click me</button>\n",
    "</div>\n",
    "```"
   ]
  },
  {
   "cell_type": "markdown",
   "id": "68d89fca-2f7b-4f0d-afc1-09051a42ce19",
   "metadata": {},
   "source": [
    "(3) 若子组件渲染的是多个节点（可以是元素，也可以是组件），则没有自动的fallthrough行为\n",
    "\n",
    "需要用`v-bind=\"$attrs\"`来手动接收，或者在JS中用$this.$attrs$来访问\n",
    "\n",
    "```html\n",
    "<header>...</header>\n",
    "<main v-bind=\"$attrs\">...</main>\n",
    "<footer>...</footer>\n",
    "```"
   ]
  },
  {
   "cell_type": "markdown",
   "id": "a9a034b1-2519-44fa-953c-29c1a53e0def",
   "metadata": {
    "slideshow": {
     "slide_type": "slide"
    },
    "tags": []
   },
   "source": [
    "# 插槽(Slot)\n",
    "父组件使用（实例化）子组件时，一般需传递数据，这样子组件才能有真正的”复用性“\n",
    "\n",
    "除了通过html attributes传递prop属性外，还可以通过innerHTML传递”模板“\n",
    "\n",
    "```html\n",
    "<FancyButton>\n",
    "  Click me! <!-- slot content -->\n",
    "</FancyButton>\n",
    "\n",
    "<button class=\"fancy-btn\">\n",
    "  <slot></slot> <!-- slot outlet -->\n",
    "</button>\n",
    "```"
   ]
  },
  {
   "attachments": {
    "f74a9065-abf5-44f6-b8dd-47152f4fa118.png": {
     "image/png": "[encoded data removed]"
    }
   },
   "cell_type": "markdown",
   "id": "5eb0c936-17d9-48fc-8a74-c03dbc36309f",
   "metadata": {
    "slideshow": {
     "slide_type": "slide"
    },
    "tags": []
   },
   "source": [
    "![image.png](attachment:f74a9065-abf5-44f6-b8dd-47152f4fa118.png)"
   ]
  },
  {
   "cell_type": "markdown",
   "id": "91b2bc57-a525-4360-8d19-961f295b70d4",
   "metadata": {},
   "source": [
    "与props传递数据一样，slot传递“模板”也可用函数传参来理解: slot content是实参，slot outlet是形参\n",
    "```js\n",
    "// parent component passing slot content\n",
    "FancyButton('Click me!')\n",
    "\n",
    "// FancyButton renders slot content in its own template\n",
    "function FancyButton(slotContent) {\n",
    "  return (\n",
    "    `<button class=\"fancy-btn\">\n",
    "      ${slotContent} \n",
    "    </button>`\n",
    "  )\n",
    "}\n",
    "```"
   ]
  },
  {
   "cell_type": "markdown",
   "id": "bfc5597c-1681-4515-a773-511a7f7b633c",
   "metadata": {},
   "source": [
    "上面传递的是文本，实际上可以传递任意有效的“模板”\n",
    "\n",
    "```html\n",
    "<FancyButton>\n",
    "  <span style=\"color:red\">Click me!</span>\n",
    "  {{message}}\n",
    "</FancyButton>\n",
    "```\n",
    "\n",
    "注意：slot content是定义在父组件中的，可以访问父组件的数据，不能访问子组件（FancyButton)的数据\n",
    "\n",
    "> Everything in the parent template is compiled in parent scope; everything in the child template is compiled in the child scope."
   ]
  },
  {
   "cell_type": "markdown",
   "id": "11d4a7d0-72fc-429f-a62d-b9c99ec4ebf8",
   "metadata": {},
   "source": [
    "形参slot outlet可以有默认值\n",
    "```html\n",
    "<!-- SubmitButton 的模板  -->\n",
    "<button type=\"submit\">\n",
    "  <slot>\n",
    "    Submit <!-- fallback content -->\n",
    "  </slot>\n",
    "</button>\n",
    "```"
   ]
  },
  {
   "cell_type": "markdown",
   "id": "e66cf24e-f4fb-4582-89c4-28658ae3c359",
   "metadata": {},
   "source": [
    "可以有多个slot outlet, 需要带名字来区分，不带名字的那个名为“default\"\n",
    "\n",
    "```html\n",
    "<div class=\"container\">\n",
    "  <header>\n",
    "    <slot name=\"header\"></slot>\n",
    "  </header>\n",
    "  <main>\n",
    "    <slot></slot>\n",
    "  </main>\n",
    "  <footer>\n",
    "    <slot name=\"footer\"></slot>\n",
    "  </footer>\n",
    "</div>\n",
    "```"
   ]
  },
  {
   "cell_type": "markdown",
   "id": "f68747c0-df50-41c9-a3e9-0423230893dd",
   "metadata": {},
   "source": [
    "相应的slot content需用`<template v-slot:slotName></template>`来包裹\n",
    "\n",
    "```html\n",
    "<BaseLayout>\n",
    "  <template v-slot:header>\n",
    "    <!-- content for the header slot -->\n",
    "  </template>\n",
    "</BaseLayout>\n",
    "```\n",
    "无`<template>`包裹的部分，会传递给无名字的slot outlet\n",
    "```html\n",
    "<BaseLayout>\n",
    "  <template #header>\n",
    "    <h1>Here might be a page title</h1>\n",
    "  </template>\n",
    "\n",
    "  <!-- implicit default slot -->\n",
    "  <p>A paragraph for the main content.</p>\n",
    "  <p>And another one.</p>\n",
    "\n",
    "  <template #footer>\n",
    "    <p>Here's some contact info</p>\n",
    "  </template>\n",
    "</BaseLayout>\n",
    "```"
   ]
  },
  {
   "cell_type": "markdown",
   "id": "99f6ee01-f5f9-4bc4-b7ea-88524181c424",
   "metadata": {},
   "source": [
    "`v-slot:slotName`可以简写为`#slotName`\n",
    "\n",
    "```html\n",
    "<BaseLayout>\n",
    "  <template #header>\n",
    "    <h1>Here might be a page title</h1>\n",
    "  </template>\n",
    "\n",
    "  <template #default>\n",
    "    <p>A paragraph for the main content.</p>\n",
    "    <p>And another one.</p>\n",
    "  </template>\n",
    "\n",
    "  <template #footer>\n",
    "    <p>Here's some contact info</p>\n",
    "  </template>\n",
    "</BaseLayout>\n",
    "```"
   ]
  },
  {
   "cell_type": "markdown",
   "id": "13fd360d-e689-4a90-9bc2-771ea3b15f62",
   "metadata": {},
   "source": [
    "`slotName`可以是动态的\n",
    "```html\n",
    "<base-layout>\n",
    "  <template v-slot:[dynamicSlotName]>\n",
    "    ...\n",
    "  </template>\n",
    "\n",
    "  <!-- with shorthand -->\n",
    "  <template #[dynamicSlotName]>\n",
    "    ...\n",
    "  </template>\n",
    "</base-layout>\n",
    "```"
   ]
  },
  {
   "cell_type": "markdown",
   "id": "ee2df2fc-e17a-4dd0-bf79-1f4723a58138",
   "metadata": {},
   "source": [
    "前面说过，slot content只能访问父组件的数据，不能访问子组件的数据\n",
    "\n",
    "实际上，有的时候需要将子组件的slot outlet数据传递给父组件的slot content: 通过slot outlet的 `<slot>`标签html attributes来传递\n",
    "```html\n",
    "<!-- <MyComponent> template -->\n",
    "<div>\n",
    "  <slot :text=\"greetingMessage\" :count=\"1\"></slot>\n",
    "</div>\n",
    "\n",
    "<!-- 父组件 -->\n",
    "<MyComponent v-slot=\"slotProps\">\n",
    "  {{ slotProps.text }} {{ slotProps.count }}\n",
    "</MyComponent>\n",
    "```\n",
    "\n",
    "父组件中通过`v-slot=`来接收，注意区分前面的`v-slot:`"
   ]
  },
  {
   "cell_type": "markdown",
   "id": "be21ef09-e810-4b84-bf6c-228341bc01df",
   "metadata": {},
   "source": [
    "<div class=\"alert alert-block alert-danger\">传统的函数传参是单方向的，函数调用传递数据给函数定义，但是前面的数据传递为什么是反的？</div>\n",
    "\n",
    "可以理解为传递的是一个函数\n",
    "\n",
    "```js\n",
    "MyComponent({\n",
    "  // passing the default slot, but as a function\n",
    "  default: (slotProps) => {\n",
    "    return `${slotProps.text} ${slotProps.count}`\n",
    "  }\n",
    "})\n",
    "\n",
    "function MyComponent(slots) {\n",
    "  const greetingMessage = 'hello'\n",
    "  return (\n",
    "    `<div>${\n",
    "      // call the slot function with props!\n",
    "      slots.default({ text: greetingMessage, count: 1 })\n",
    "    }</div>`\n",
    "  )\n",
    "}\n",
    "```"
   ]
  },
  {
   "cell_type": "markdown",
   "id": "7a617c2d-b331-4c27-a945-cbc27a867354",
   "metadata": {},
   "source": [
    "多个slot传递，也可以这样传递html attributes\n",
    "```html\n",
    "<MyComponent>\n",
    "  <template #header=\"headerProps\">\n",
    "    {{ headerProps }}\n",
    "  </template>\n",
    "\n",
    "  <template #default=\"defaultProps\">\n",
    "    {{ defaultProps }}\n",
    "  </template>\n",
    "\n",
    "  <template #footer=\"footerProps\">\n",
    "    {{ footerProps }}\n",
    "  </template>\n",
    "</MyComponent>\n",
    "```"
   ]
  },
  {
   "attachments": {
    "362ff8a7-ea62-419f-84ed-d8b258e13164.png": {
     "image/png": "[encoded data removed]"
    }
   },
   "cell_type": "markdown",
   "id": "1ed53a18-3ecd-4cee-ad8a-18f06ff2319e",
   "metadata": {},
   "source": [
    "# Provide/inject\n",
    "在一个嵌套比较深的结构中，某个高层节点要传递数据给它的一个较深的节点，需要让中间的所有节点都传递一下。\n",
    "\n",
    "也就是说，在每个中间组件中都要定义相应的props来接收, 并且模板中要用html属性要发送，但是每个中间节点又用不到这些数据\n",
    "\n",
    "这种现象称作为props drilling（打孔）：可以比喻成一栋高楼中的有线网络，高层房间要发条信息给低层房间，需要在每层房间的天花板上打孔接线，由于中间层有可能也需要接收信息，所以每层都要有一个节点用来接收和发射\n",
    "\n",
    "![image.png](attachment:362ff8a7-ea62-419f-84ed-d8b258e13164.png)"
   ]
  },
  {
   "attachments": {
    "c6f725aa-71e8-4d68-a055-4808870b6700.png": {
     "image/png": "[encoded data removed]"
    }
   },
   "cell_type": "markdown",
   "id": "c57842f9-57cb-4400-9131-cec4140a849b",
   "metadata": {},
   "source": [
    "Vue提供了Provide/inject来解决props drilling问题：在高层装一个无线发射器(provide), 在每个有需要的低层装一个接收器(inject)\n",
    "![image.png](attachment:c6f725aa-71e8-4d68-a055-4808870b6700.png)"
   ]
  },
  {
   "cell_type": "markdown",
   "id": "a6c80471-3b48-44c9-a05e-eb41c60b8a13",
   "metadata": {},
   "source": [
    "## Provide\n",
    "使用provide选项来“发射”一个数据\n",
    "```js\n",
    "export default {\n",
    "  provide: {\n",
    "    message: 'hello!'\n",
    "  }\n",
    "}\n",
    "```\n",
    "若是想要不同实例发射不同的数据，则需要用函数形式（注意：这不会使得inject变成响应式)\n",
    "```js\n",
    "export default {\n",
    "  data() {\n",
    "    return {\n",
    "      message: 'hello!'\n",
    "    }\n",
    "  },\n",
    "  provide() {\n",
    "    // use function syntax so that we can access `this`\n",
    "    return {\n",
    "      message: this.message\n",
    "    }\n",
    "  }\n",
    "}\n",
    "```"
   ]
  },
  {
   "cell_type": "markdown",
   "id": "0b920000-8a97-48ca-a69c-df715edecf2e",
   "metadata": {},
   "source": [
    "也可以从app顶层”发射“：整个app内部都可以接收\n",
    "```js\n",
    "import { createApp } from 'vue'\n",
    "\n",
    "const app = createApp({})\n",
    "\n",
    "app.provide(/* key */ 'message', /* value */ 'hello!')\n",
    "```"
   ]
  },
  {
   "cell_type": "markdown",
   "id": "89a8e8bb-dc39-48d1-9b3e-f13e8c64237b",
   "metadata": {},
   "source": [
    "## Inject\n",
    "后代组件使用`inject`选项来接收\n",
    "\n",
    "```js\n",
    "export default {\n",
    "  inject: ['message'],\n",
    "  created() {\n",
    "    console.log(this.message) // injected value\n",
    "  }\n",
    "}\n",
    "```\n",
    "\n",
    "接收数据是在自身状态数据构造之前，因此可以使用inject数据来初始化组件状态\n",
    "\n",
    "```js\n",
    "export default {\n",
    "  inject: ['message'],\n",
    "  data() {\n",
    "    return {\n",
    "      // initial data based on injected value\n",
    "      fullMessage: this.message\n",
    "    }\n",
    "  }\n",
    "}\n",
    "```"
   ]
  },
  {
   "cell_type": "markdown",
   "id": "1f850525-2002-4066-a85c-fa405b50b9fc",
   "metadata": {},
   "source": [
    "使用array语法接收到的数据是使用发射时的名字，若想换个名字，需要用object语法\n",
    "```js\n",
    "export default {\n",
    "  inject: {\n",
    "    /* local key */ localMessage: {\n",
    "      from: /* injection key */ 'message'\n",
    "    }\n",
    "  }\n",
    "}\n",
    "```\n",
    "object语法还可以设置默认值\n",
    "\n",
    "```js\n",
    "export default {\n",
    "  // object syntax is required\n",
    "  // when declaring default values for injections\n",
    "  inject: {\n",
    "    message: {\n",
    "      from: 'message', // this is optional if using the same key for injection\n",
    "      default: 'default value'\n",
    "    },\n",
    "    user: {\n",
    "      // use a factory function for non-primitive values that are expensive\n",
    "      // to create, or ones that should be unique per component instance.\n",
    "      default: () => ({ name: 'John' })\n",
    "    }\n",
    "  }\n",
    "}\n",
    "```"
   ]
  },
  {
   "cell_type": "markdown",
   "id": "21c9cca2-8e22-4cc6-a8c9-d6faf8a581cb",
   "metadata": {},
   "source": [
    "若想要injection接收的数据有”响应性“，可以使用`computed` 函数（组合式API）\n",
    "\n",
    "```js\n",
    "import { computed } from 'vue'\n",
    "\n",
    "export default {\n",
    "  data() {\n",
    "    return {\n",
    "      message: 'hello!'\n",
    "    }\n",
    "  },\n",
    "  provide() {\n",
    "    return {\n",
    "      // explicitly provide a computed property\n",
    "      message: computed(() => this.message)\n",
    "    }\n",
    "  }\n",
    "}\n",
    "```"
   ]
  },
  {
   "cell_type": "markdown",
   "id": "7dac7c08-9efe-4c96-b36e-2d24e6ba5995",
   "metadata": {},
   "source": [
    "# 异步组件(Async Component)\n",
    "程序较大时，可能需要”按需“导入组件\n",
    "\n",
    "```js\n",
    "import { defineAsyncComponent } from 'vue'\n",
    "\n",
    "const AsyncComp = defineAsyncComponent(() => {\n",
    "  return new Promise((resolve, reject) => {\n",
    "    // ...load component from server\n",
    "    resolve(/* loaded component */)\n",
    "  })\n",
    "})\n",
    "```\n",
    "可以使用es module的动态import\n",
    "```js\n",
    "import { defineAsyncComponent } from 'vue'\n",
    "\n",
    "const AsyncComp = defineAsyncComponent(() =>\n",
    "  import('./components/MyComponent.vue')\n",
    ")\n",
    "```\n"
   ]
  },
  {
   "cell_type": "markdown",
   "id": "b84d8961-89cf-4178-a093-1411baafbf5e",
   "metadata": {},
   "source": [
    "```js\n",
    "import { defineAsyncComponent } from 'vue'\n",
    "\n",
    "export default {\n",
    "  // ...\n",
    "  components: {\n",
    "    AsyncComponent: defineAsyncComponent(() =>\n",
    "      import('./components/AsyncComponent.vue')\n",
    "    )\n",
    "  }\n",
    "}\n",
    "```"
   ]
  },
  {
   "cell_type": "markdown",
   "id": "ccff0f57-0955-49df-ad99-8ac117069519",
   "metadata": {},
   "source": [
    "异步加载和错误\n",
    "```js\n",
    "const AsyncComp = defineAsyncComponent({\n",
    "  // the loader function\n",
    "  loader: () => import('./Foo.vue'),\n",
    "\n",
    "  // A component to use while the async component is loading\n",
    "  loadingComponent: LoadingComponent,\n",
    "  // Delay before showing the loading component. Default: 200ms.\n",
    "  delay: 200,\n",
    "\n",
    "  // A component to use if the load fails\n",
    "  errorComponent: ErrorComponent,\n",
    "  // The error component will be displayed if a timeout is\n",
    "  // provided and exceeded. Default: Infinity.\n",
    "  timeout: 3000\n",
    "})\n",
    "```\n",
    "\n",
    "参考：Vue async components: [英文](https://vuejs.org/guide/components/async.html)"
   ]
  },
  {
   "cell_type": "code",
   "execution_count": null,
   "id": "aa42b6ed-aabf-4bf6-a6d1-782415c09448",
   "metadata": {},
   "outputs": [],
   "source": []
  }
 ],
 "metadata": {
  "celltoolbar": "幻灯片",
  "kernelspec": {
   "display_name": "Python 3",
   "language": "python",
   "name": "python3"
  },
  "language_info": {
   "codemirror_mode": {
    "name": "ipython",
    "version": 3
   },
   "file_extension": ".py",
   "mimetype": "text/x-python",
   "name": "python",
   "nbconvert_exporter": "python",
   "pygments_lexer": "ipython3",
   "version": "3.8.8"
  }
 },
 "nbformat": 4,
 "nbformat_minor": 5
}
