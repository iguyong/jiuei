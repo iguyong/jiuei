{
 "cells": [
  {
   "cell_type": "markdown",
   "id": "0c2d2a17",
   "metadata": {},
   "source": [
    "# 大纲\n",
    "1. props\n",
    "2. 事件(events)\n",
    "3. Fallthrough Attributes\n",
    "4. Slots\n",
    "5. Provide/inject\n",
    "6. Async Components"
   ]
  },
  {
   "cell_type": "markdown",
   "id": "46734a2e",
   "metadata": {
    "slideshow": {
     "slide_type": "slide"
    }
   },
   "source": [
    "# props\n",
    "## prop参数声明\n",
    "prop属性用于给子组件**实例**传递参数，需要在组件的props选项中声明\n",
    "- 该声明可以类比构造函数的形参，用于构造（实例化）子组件实例\n",
    "- 我们也可以称prop属性为prop参数\n",
    "\n",
    "```js\n",
    "export default {\n",
    "  props: ['foo'],  // prop参数声明，一个字符串数组，每个字符串是一个参数名称\n",
    "  created() {\n",
    "    // props are exposed on `this`\n",
    "    console.log(this.foo)\n",
    "  }\n",
    "}\n",
    "```\n",
    "在组件中，需要用`this`来访问该参数，因为该参数是组件实例的，不是组件的 (类比在c++的类方法中访问成员变量）"
   ]
  },
  {
   "cell_type": "markdown",
   "id": "b1d3560f",
   "metadata": {
    "slideshow": {
     "slide_type": "slide"
    }
   },
   "source": [
    "除了字符串数组外，props选项还可以是一个Object\n",
    "```js\n",
    "export default {\n",
    "  props: {\n",
    "    title: String,\n",
    "    likes: Number\n",
    "  }\n",
    "}\n",
    "```\n",
    "该props Object中，每个属性对应一个参数\n",
    "- 属性名称是参数名称，属性值是参数类型（本质上是参数类型的构造函数）\n",
    "- 参数类型可以使得组件的参数更容易理解，还可以做prop类型验证（使用者传递错误的参数类型会触发警告）"
   ]
  },
  {
   "cell_type": "markdown",
   "id": "ed7545db",
   "metadata": {
    "slideshow": {
     "slide_type": "slide"
    }
   },
   "source": [
    "## prop参数传递细节\n",
    "prop参数是一个字符串，理论上任意的字符串都可以用。为了方便，一般用camelCase(驼峰法）命名。\n",
    "\n",
    "```js\n",
    "export default {\n",
    "  props: {\n",
    "    greetingMessage: String //声明时，作为属性名称，驼峰法名称写起来方便，不需要双引号\n",
    "  }\n",
    "}\n",
    "```\n",
    "```html\n",
    "<span>{{ greetingMessage }}</span>\n",
    "\n",
    "<!-- 在非In-DOM写法中，驼峰法名称也可以直接写，不过习惯上还是会转换成连字符法（在In-DOM写法中则必须转换）-->\n",
    "<MyComponent greeting-message=\"hello\" /> \n",
    "```\n",
    "\n",
    "在可以的情况下，组件名称标签尽量用PascalCase写法，并且写成自关闭标签，这样可以提高易读性，很容易区分自定义Vue组件和原生的html元素。但是参数传递没有这样的好处。"
   ]
  },
  {
   "cell_type": "markdown",
   "id": "f7d5141e",
   "metadata": {
    "slideshow": {
     "slide_type": "slide"
    }
   },
   "source": [
    "## 静态 vs. 动态 props\n",
    "参数传递是在组件实例化时，以设置html属性的方式进行的。既然是html属性设置，那么可以是静态，也可以是动态\n",
    "- 静态时会解析成字符串\n",
    "- 动态时会解析成JS表达式（将引号内部看作JS代码）\n",
    "\n",
    "```html\n",
    "<BlogPost title=\"My journey with Vue\" />\n",
    "\n",
    "<!-- Dynamically assign the value of a variable -->\n",
    "<BlogPost :title=\"post.title\" />\n",
    "\n",
    "<!-- Dynamically assign the value of a complex expression -->\n",
    "<BlogPost :title=\"post.title + ' by ' + post.author.name\" />\n",
    "```"
   ]
  },
  {
   "cell_type": "markdown",
   "id": "97008993",
   "metadata": {
    "slideshow": {
     "slide_type": "slide"
    }
   },
   "source": [
    "## 参数类型\n",
    "参数的类型不限于字符串类型，可以是任意JS类型，例如布尔类型\n",
    "```html\n",
    "<!-- 参数若是没有值，默认为 `true`. -->\n",
    "<BlogPost is-published />\n",
    "\n",
    "<!--  注意这里需要用动态绑定，否则会解析成字符串 -->\n",
    "<BlogPost :is-published=\"false\" />\n",
    "\n",
    "<!-- 动态绑定到某个变量上 -->\n",
    "<BlogPost :is-published=\"post.isPublished\" />\n",
    "```"
   ]
  },
  {
   "cell_type": "markdown",
   "id": "c4a62f14",
   "metadata": {
    "slideshow": {
     "slide_type": "slide"
    }
   },
   "source": [
    "例如数组、对象\n",
    "```html\n",
    "<BlogPost :comment-ids=\"[234, 266, 273]\" />\n",
    "\n",
    "<BlogPost :comment-ids=\"post.commentIds\" />\n",
    "<BlogPost\n",
    "  :author=\"{\n",
    "    name: 'Veronica',\n",
    "    company: 'Veridian Dynamics'\n",
    "  }\"\n",
    " />\n",
    "\n",
    "<BlogPost :author=\"post.author\" />\n",
    "```"
   ]
  },
  {
   "cell_type": "markdown",
   "id": "f9547e9e",
   "metadata": {
    "slideshow": {
     "slide_type": "slide"
    }
   },
   "source": [
    "`v-bind`（动态绑定）可以不带参数，用来同时绑定多个属性（之前学的是html自带属性，这里的prop属性也可以）\n",
    "\n",
    "```js\n",
    "export default {\n",
    "  data() {\n",
    "    return {\n",
    "      post: {\n",
    "        id: 1,\n",
    "        title: 'My Journey with Vue'\n",
    "      }\n",
    "    }\n",
    "  }\n",
    "}\n",
    "```\n",
    "以下两种绑定是等价的\n",
    "```html\n",
    "<BlogPost v-bind=\"post\" />\n",
    "<BlogPost :id=\"post.id\" :title=\"post.title\" />\n",
    "```"
   ]
  },
  {
   "cell_type": "markdown",
   "id": "f350ddc7",
   "metadata": {
    "slideshow": {
     "slide_type": "slide"
    }
   },
   "source": [
    "## 单向数据流动\n",
    "prop参数传递是一种单向数据绑定\n",
    "- 响应性：若父组件的实参发生变化，传到子组件中的形参也会相应的更新\n",
    "- 单向：反过来，改变子组件中的形参不会影响父组件的实参\n",
    "\n",
    "注意：父组件的每次更新都会使得子组件的形参更新，因此改变子组件中的形参没有意义（Vue会在控制台中发出警告）\n",
    "```js\n",
    "export default {\n",
    "  props: ['foo'],\n",
    "  created() {\n",
    "    // ❌ warning, props are readonly!\n",
    "    this.foo = 'bar'\n",
    "  }\n",
    "}\n",
    "```"
   ]
  },
  {
   "cell_type": "markdown",
   "id": "094841ff",
   "metadata": {
    "slideshow": {
     "slide_type": "slide"
    }
   },
   "source": [
    "然而，经常会出现让人想在子组件中改变prop参数的情形\n",
    "1. prop参数用作一个初始值来初始化子组件，随后子组件想将该prop属性当作一个普通的本地数据属性\n",
    "    - 这种情形下，可以将prop参数赋值给另一个本地变量\n",
    "    \n",
    "```js\n",
    "export default {\n",
    "  props: ['initialCounter'],\n",
    "  data() {\n",
    "    return {\n",
    "      // 这里只将prop参数 this.initialCounter 当作一个初始值\n",
    "      // 将该参数值赋值给另一个变量，可以断开与prop参数的绑定\n",
    "      counter: this.initialCounter\n",
    "    }\n",
    "  }\n",
    "}\n",
    "```"
   ]
  },
  {
   "cell_type": "markdown",
   "id": "6786aacf",
   "metadata": {
    "slideshow": {
     "slide_type": "slide"
    }
   },
   "source": [
    "2. prop参数当作一个原始值，该值需要做一些转换\n",
    "    - 这种情形下，可以使用计算属性\n",
    "    \n",
    " ```js\n",
    "export default {\n",
    "  props: ['size'],\n",
    "  computed: {\n",
    "    // computed property that auto-updates when the prop changes\n",
    "    normalizedSize() {\n",
    "      return this.size.trim().toLowerCase()\n",
    "    }\n",
    "  }\n",
    "}\n",
    "```"
   ]
  },
  {
   "cell_type": "markdown",
   "id": "80e5253e",
   "metadata": {
    "slideshow": {
     "slide_type": "slide"
    }
   },
   "source": [
    "注意，以上所说的（在子组件中）改变prop参数是指改变prop参数本身，不包括改变prop参数的内部属性。\n",
    "\n",
    "换句话说，如果prop参数是Array或Object类型，那么是可以（在子组件中）改变prop参数的。这是因为JS的Array和Object是引用传递，如果Vue想防止这种深层次的改变会有很大的开销，因此不会发生警告，需要作者自行避免。\n",
    "\n",
    "这种深层次改变会造成不好的结果：子组件会在父组件的不知情的情况下，改变父组件的状态，可能会触发其它意料之外的更新（尤其是在该状态是响应式状态的情况下）。\n",
    "\n",
    "最好的方法是：\n",
    "- 避免这种改变，除非想故意使得父组件与子组件紧密地耦合。\n",
    "- 子组件应该发出(emit)一个事件给父组件，让父组件来改变"
   ]
  },
  {
   "cell_type": "markdown",
   "id": "673ba90e",
   "metadata": {
    "slideshow": {
     "slide_type": "slide"
    }
   },
   "source": [
    "## prop参数验证\n",
    "组件可以指定对参数的要求\n",
    "- 例如之前讲的参数的类型\n",
    "- 若是要求没满足，Vue会在控制台发生警告（development模式下）\n",
    "- 参数验证是在组件实例创建之前，不能使用组件的属性（例如`data`,`computed`）\n",
    "\n",
    "```js\n",
    "export default {\n",
    "  props: {\n",
    "    // 基本的类型验证\n",
    "    //  (`null` 和 `undefined` 允许所有类型)\n",
    "    propA: Number,\n",
    "    // 多个允许的类型\n",
    "    propB: [String, Number],\n",
    "    // Required string\n",
    "    propC: {\n",
    "      type: String,\n",
    "      required: true // 要求每个参数非空（默认是允许为空，若为空，其实为undefined）\n",
    "    },\n",
    "    // Number with a default value\n",
    "    propD: {\n",
    "      type: Number,\n",
    "      default: 100  // 提供一个默认值，用于参数为空或参数的值为undefined\n",
    "    },\n",
    "```\n",
    "      "
   ]
  },
  {
   "cell_type": "markdown",
   "id": "8318d2d8",
   "metadata": {
    "slideshow": {
     "slide_type": "slide"
    }
   },
   "source": [
    "```\n",
    "    propE: {\n",
    "      type: Object,\n",
    "      // Object和Array类型的默认值需要从一个工厂函数(名称为default)获得\n",
    "      // 该函数有一个参数\n",
    "      default(rawProps) {\n",
    "        return { message: 'hello' }\n",
    "      }\n",
    "    },\n",
    "    // 自定义一个“验证函数”，函数名称为validator, 该函数返回一个bool值来指示验证是否成功\n",
    "    propF: {\n",
    "      validator(value) {\n",
    "        return ['success', 'warning', 'danger'].includes(value)\n",
    "      }\n",
    "    },\n",
    "    // 若参数是Function类型, defalut函数即为默认的prop参数的值\n",
    "    propG: {\n",
    "      type: Function,\n",
    "      default() {\n",
    "        return 'Default function'\n",
    "      }\n",
    "    }\n",
    "  }\n",
    "}\n",
    "```"
   ]
  },
  {
   "cell_type": "markdown",
   "id": "a5446b0b",
   "metadata": {
    "slideshow": {
     "slide_type": "slide"
    }
   },
   "source": [
    "Runtime类型验证：\n",
    "- 数据类型可以是以下几种JS原生的Constructor\n",
    "`String`, `Number`, `Boolean`, `Array`, `Object`, `Date`, `Function`, `Symbol`\n",
    "- 也可以是自定义的constructor(或class), 验证是基于 instanceof 执行\n",
    "\n",
    "```js\n",
    "class Person {\n",
    "  constructor(firstName, lastName) {\n",
    "    this.firstName = firstName\n",
    "    this.lastName = lastName\n",
    "  }\n",
    "}\n",
    "export default {\n",
    "  props: {\n",
    "    author: Person\n",
    "  }\n",
    "}\n",
    "```"
   ]
  },
  {
   "cell_type": "markdown",
   "id": "b7ec2bdf",
   "metadata": {
    "slideshow": {
     "slide_type": "slide"
    }
   },
   "source": [
    "## Bool类型转换\n",
    "布尔类型prop参数有特殊的转换规则，来模拟html原生的布尔类型的attribute\n",
    "\n",
    "```js\n",
    "export default {\n",
    "  props: {\n",
    "    disabled: Boolean\n",
    "  }\n",
    "}\n",
    "```\n",
    "\n",
    "```html\n",
    "<!-- 等价于 :disabled=\"true\" -->\n",
    "<MyComponent disabled />\n",
    "\n",
    "<!-- 等价于 :disabled=\"false\" -->\n",
    "<MyComponent />\n",
    "```"
   ]
  },
  {
   "cell_type": "markdown",
   "id": "741931ec",
   "metadata": {},
   "source": [
    "# Events\n",
    "\n",
    "# 插槽(Slot)\n",
    "# Provide/inject\n",
    "# Fallthrough Attributes\n",
    "\n",
    "# 异步组件(Async Component)"
   ]
  }
 ],
 "metadata": {
  "celltoolbar": "幻灯片",
  "kernelspec": {
   "display_name": "Python 3",
   "language": "python",
   "name": "python3"
  },
  "language_info": {
   "codemirror_mode": {
    "name": "ipython",
    "version": 3
   },
   "file_extension": ".py",
   "mimetype": "text/x-python",
   "name": "python",
   "nbconvert_exporter": "python",
   "pygments_lexer": "ipython3",
   "version": "3.8.8"
  }
 },
 "nbformat": 4,
 "nbformat_minor": 5
}
