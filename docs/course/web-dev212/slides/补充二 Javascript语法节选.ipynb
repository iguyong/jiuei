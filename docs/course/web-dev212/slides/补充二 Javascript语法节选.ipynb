{
 "cells": [
  {
   "cell_type": "markdown",
   "id": "0b30aab2",
   "metadata": {
    "slideshow": {
     "slide_type": "slide"
    }
   },
   "source": [
    "# JS介绍\n",
    "* 弱数据类型：不同数据类型可以直接操作\n",
    "* 脚本语言（解释性语言）：无预先编译，直接运行\n",
    "* 动态类型：变量本身无类型，可以将变量看作一个标签（只是一个名字，不含类型信息），使用 var, let, const 来声明\n",
    "* 面向对象（原型）：与静态语言中的类和对象不同，JS的面向对象是基于原型的\n",
    "* 基于事件驱动：在浏览器中JS的主程序是一个单线程，初始化后进入事件循环，监听事件的发生并执行\n",
    "* 需要宿主环境：最早是用于浏览器，后来也扩展到本地（仍然需要类似NodeJS之类的运行环境），不能编译成二进制代码，直接运行在机器上"
   ]
  },
  {
   "cell_type": "markdown",
   "id": "5bde6a91-697a-41f7-9608-40209ed92477",
   "metadata": {
    "slideshow": {
     "slide_type": "slide"
    }
   },
   "source": [
    "# 数据类型\n",
    "数据具有三样东西：标签(变量名)、值、类型; \n",
    "- 每个值会存储在某个内存处，可能有多个名字指向它；\n",
    "- 值有两种：可变的(基本数据类型) 和不可变的(对象数据类型）\n",
    "\n",
    "正确地理解\"赋值\": <span class=\"alert-danger\">将一个表达式 `expr` 的值赋值给一个名字 `name`</span> \n",
    "1. 最常见的形式是 `=` 赋值操作符, 例如: `x = y`\n",
    "    - 还有其它形式, 例如: 函数调用时实参\"赋值\"给形参 \n",
    "1. 执行\"赋值\"时，先计算`expr`的值，该值会存储在某处内存\n",
    "    - 这个内存可能是有名字的, 例如: `x = y` 中的`y`存储在一个名字为`y`的内存处\n",
    "    - 也可能是没有名字的, 例如: `x = y + 3`中的`y+3`是一个\"临时值\"，存储在没有名字的内存处\n",
    "1. \"赋值\"的本质上是将name这个名字（也可看作指针）指向`expr`所在的内存地址，相当于c++中的“传引用”；\n",
    "    - 对于对象类型的expr，“传引用”很合理，因为这样不需要复制，效率更高\n",
    "    - 对于基本数据类型的expr, “传引用”和“传值”没有区别, 因为基本数据类型的值是不可变的（例如`string`不可以给子串赋值)\n",
    "    - 若name在赋值前就已经指向了某个内存，那么该内存就会\"丢失\" 这个名字，若一个内存没有任何名字指向它，该内存随后会被销毁"
   ]
  },
  {
   "cell_type": "markdown",
   "id": "c38644c4-28d4-4446-919f-1a8356fad829",
   "metadata": {
    "slideshow": {
     "slide_type": "slide"
    }
   },
   "source": [
    "* 基本（primitive)类型：number, string, boolean, null, undefined, symbol\n",
    "    - 值是不可变的\n",
    "    ```js\n",
    "    let a = \"abc\"; \n",
    "    a = \"hello\";  \n",
    "    a[2] = 'e'; // 非法，会报错\n",
    "    let b = a;\n",
    "    b = \"hi\";\n",
    "    console.log(a); // \"hello\"\n",
    "    ```\n",
    "* 复合类型：数组(Array), 函数(Function), 对象(object)\n",
    "    - 复合数据类型，是多个其它类型数据的集合\n",
    "    - 值是可变的\n",
    "    ```js\n",
    "    let a = {name: 'x', age: 10};\n",
    "    a.name = 'y'; // a的值是可变的，a\n",
    "    ```\n",
    "    - 数组是动态的，元素的类型不需要相同，可以是任意类型，可以增删; 本质上是一种object子类\n",
    "    - 函数也是值，本质上是一种object子类"
   ]
  },
  {
   "cell_type": "markdown",
   "id": "871e0bd7-0719-4f9f-a8f4-2727c9756296",
   "metadata": {
    "slideshow": {
     "slide_type": "slide"
    }
   },
   "source": [
    "```js\n",
    "typeof(function(){return 3;}) // 'function'\n",
    "typeof({a:1}) // 'object'\n",
    "typeof(['a',1]) // 'object'\n",
    "\n",
    "//判断是否为数组类型需要用其它方式\n",
    "['a', 1] instanceof Array;  // true\n",
    "Array.isarray(['a',1]); // true\n",
    "```"
   ]
  },
  {
   "cell_type": "markdown",
   "id": "2682d46c",
   "metadata": {
    "slideshow": {
     "slide_type": "slide"
    }
   },
   "source": [
    "# 一些概念\n",
    "字面量（literal）：手写的某种数据类型的值。例如：\n",
    "- number literal: `1, -3, 1e3, 0xFF`\n",
    "- string literal: `\"hi\", 'hello', \"I'm fine\"`\n",
    "- object literal: `{a: 1; b: 'hi', c: undefined}`\n",
    "- Array literal: `['hi', -3, {a: 1, b: 'hi'}]`"
   ]
  },
  {
   "cell_type": "markdown",
   "id": "abbbbc02",
   "metadata": {
    "slideshow": {
     "slide_type": "slide"
    }
   },
   "source": [
    "表达式(expression)：可以评估(计算)出一个值的“短语。例如：\n",
    "- 初级表达式：初级字面量（字符串，数字）, 标识符（变量名）, 某些关键字(undefined, this等)\n",
    "- 操作符表达式：由若干个表达式经过操作符得到的结果, 例如 `3 + 'hi'`, `3 <= 4`, `a = [1,2]`, `a=3, b=4`\n",
    "- 函数定义表达式：传统函数表达式`function (a){ return a + 1; }`, 箭头函数表达式 `(a) => { return a + 1 }`\n",
    "- 属性访问表达式：`p.name`, `p[key]`\n",
    "- 函数调用表达式：`fun(2)`, `a.sort()`\n",
    "- 对象构造表达式：`new Point(2,3)`\n",
    "- 复合字面量表达式：数组字面量, 对象字面量\n",
    "\n",
    "注意：除了初级表达式外，各类表达式中可能包含其它类型的表达式\n",
    "\n",
    "参考：[MDN: Expressions and Operators](https://developer.mozilla.org/en-US/docs/Web/JavaScript/Reference#expressions_and_operators)"
   ]
  },
  {
   "cell_type": "markdown",
   "id": "28329881-7967-476d-a7d4-d7fac29ed0a1",
   "metadata": {},
   "source": [
    "一个JS程序是由一条条语句(statement)和声明(declaration)\n",
    "- 声明是用来“生成新的名字”的，有的时候也是一条语句（可以看作声明和语句合在一起）\n",
    "    - var, let, const\n",
    "    - function, class\n",
    "    - import, export\n",
    "- 语句(statement)是JS的\"runtime\"在运行时执行的代码, 包括：\n",
    "    - 表达式语句\n",
    "    - 复合语句：多条语句用花括号包裹成一条复合语句\n",
    "    - 空语句\n",
    "    - 条件语句: if, else, switch\n",
    "    - 循环语句: while, do while, for, for of, for in\n",
    "    - 跳转语句: break, continue, return, yield, throw, try/catch/finally\n",
    "    - 其它语句: with, debugger\n",
    "\n",
    "参考：[MDN: Statements and Declarations](https://developer.mozilla.org/en-US/docs/Web/JavaScript/Reference#statements)"
   ]
  },
  {
   "cell_type": "markdown",
   "id": "376dc830-6cf8-475d-b1c0-23e1d4e8ebb2",
   "metadata": {},
   "source": [
    "# object\n",
    "# Array\n",
    "# Function"
   ]
  },
  {
   "cell_type": "markdown",
   "id": "72dbacea-6149-4e9e-97c2-de78855d64ba",
   "metadata": {},
   "source": [
    "标识符、关键字、运算符、注释、流程控制等语法与c++基本上差不多"
   ]
  },
  {
   "cell_type": "markdown",
   "id": "057d89c7-6991-46ce-9238-07d82c471574",
   "metadata": {},
   "source": [
    "# ES6新特性\n",
    "ES6增加了许多新的特性，包括新的语法和功能, 这里介绍以下几项：\n",
    "- object字面量(literal)\n",
    "- 箭头(arrow)函数\n",
    "- 模板字符串(template string)\n",
    "- 解构(destructuring)\n",
    "- 模块(module)\n",
    "- 函数参数"
   ]
  },
  {
   "cell_type": "markdown",
   "id": "bdd69a59-10b0-469f-876d-e8a53dc8c7ed",
   "metadata": {},
   "source": [
    "## object字面量\n",
    "```js\n",
    "let obj = {\n",
    "    // 原型 __proto__\n",
    "    __proto__: theProtoObj,\n",
    "    handler, // handler: handler 的缩写\n",
    "    \n",
    "    // 方法，可以看作 toString: function(){} 的缩写\n",
    "    toString() {\n",
    "     // Super calls\n",
    "     return \"d \" + super.toString();\n",
    "    },\n",
    "    // 使用表达式作为属性名称\n",
    "    [ 'prop_' + (() => 42)() ]: 42\n",
    "};\n",
    "```"
   ]
  },
  {
   "cell_type": "markdown",
   "id": "da7260b3-be38-4290-a8b4-5466c605e1f4",
   "metadata": {},
   "source": [
    "## 箭头(arrow)函数表达式\n",
    "传统的<mark>函数表达式</mark>的简写, 使用 `=>`。与传统的函数表达式相比，主法有所不同，而且还有一些限制\n",
    "\n",
    "```js\n",
    "// 一般形式：删掉关键字 'function'，在形参列表和函数体之间加上 '=>'\n",
    "let fn1 = (x,y) => { \n",
    "    if (x % 2 === 0) {\n",
    "        return y+1;\n",
    "    }else{\n",
    "        return y*2;\n",
    "    }\n",
    "}\n",
    "\n",
    "// 如果函数体中只有 'return <expr>', 可以省略花括号和 'return'\n",
    "let fn2 = (x,y) => x+y\n",
    "\n",
    "// 如果只有一个形参，可以省略形参的括号\n",
    "let fn4 = x => x*2;\n",
    "```\n",
    "注意: 箭头函数不能绑定this, 函数体中的 `this` 会指向“箭头函数所在的环境”中的`this`, 具体参见: [MDN: Arrow function expression](https://developer.mozilla.org/en-US/docs/Web/JavaScript/Reference/Functions/Arrow_functions)"
   ]
  },
  {
   "cell_type": "markdown",
   "id": "8f735ac9-f1a5-4e86-a7db-4758ebc6b7b6",
   "metadata": {},
   "source": [
    "## 模板字符串\n",
    "可以使用反引号来写表示字符串\n",
    "\n",
    "```js\n",
    "// 反引号中不需要转义，例如可以直接换行来表示换行，不需要 \\n\n",
    "let Root = {\n",
    "    template: `\n",
    "<h1>title</h1>\n",
    "<p> content </p>\n",
    "`\n",
    "};\n",
    "// 可以使用插值, 表达式中的值只会在运行时计算一次，后面不会再更新\n",
    "let x = 1, y = 2;\n",
    "let content = `the sum is ${x+y} `; // 'the sum is 3'\n",
    "```"
   ]
  },
  {
   "cell_type": "markdown",
   "id": "6f49560c-eea2-439e-812d-7267f00274f0",
   "metadata": {},
   "source": [
    "## 解构(destructruing)赋值\n",
    "将数组或对象中的值解包（unpack)赋值给多个值\n",
    "```js\n",
    "// 数组匹配\n",
    "var [a, , b] = [1,2,3,4]; // a == 1, b == 3\n",
    "\n",
    "// 对象匹配\n",
    "const o = {p: 42, q: true};\n",
    "const {p: foo, q: bar} = o;\n",
    "console.log(foo); // 42\n",
    "console.log(bar); // true\n",
    "\n",
    "// 对象匹配的简写\n",
    "var {p,q} = o; // 等价于 {p:p, q:q} = o;\n",
    "```"
   ]
  },
  {
   "cell_type": "markdown",
   "id": "a7896e9f-95e2-4ef6-907b-418945416544",
   "metadata": {},
   "source": [
    "```js\n",
    "// 用于形参中（形参可以类比赋值中的左边）\n",
    "function g({name: x}) {\n",
    "  console.log(x);\n",
    "}\n",
    "let p = {name: 'gy', age: 10};\n",
    "g(p)\n",
    "\n",
    "// 不存在则为 undefined\n",
    "var [a] = [];\n",
    "a === undefined;\n",
    "\n",
    "// 可以使用默认值\n",
    "var [a = 1] = [];\n",
    "a === 1;\n",
    "let {p:foo = 7, q:bar} = o;\n",
    "```"
   ]
  },
  {
   "cell_type": "markdown",
   "id": "4f36ee78-3359-43cc-8a52-af2ae1f7feab",
   "metadata": {},
   "source": [
    "还可以内联（嵌套）:\n",
    "```js\n",
    "const metadata = {\n",
    "  title: 'Scratchpad',\n",
    "  translations: [\n",
    "    {\n",
    "      url: '/de/docs/Tools/Scratchpad',\n",
    "      title: 'JavaScript-Umgebung'\n",
    "    }\n",
    "  ],\n",
    "  url: '/en-US/docs/Tools/Scratchpad'\n",
    "};\n",
    "\n",
    "let {\n",
    "  title: englishTitle, // rename\n",
    "  translations: [\n",
    "    {\n",
    "       title: localeTitle, // rename\n",
    "    },\n",
    "  ],\n",
    "} = metadata;\n",
    "\n",
    "console.log(englishTitle); // \"Scratchpad\"\n",
    "console.log(localeTitle);  // \"JavaScript-Umgebung\"\n",
    "```"
   ]
  },
  {
   "cell_type": "markdown",
   "id": "bc1b79df-af15-4395-8d8a-f2b691692328",
   "metadata": {},
   "source": [
    "## 模块(Module)\n",
    "封装性：隐藏实现细节；保持命名空间整洁，互不干扰\n",
    "\n",
    "ES6之前不支持模块化，需通过闭包和bundle工具（代码文件拼接工具）来实现弱的模块化\n",
    "- 类(class)、对象(object)在一定程序上也是\"模块\", 它们有各自的命名空间，但是不能隐藏实现细节\n",
    "- 闭包可以”隐藏实现细节\", 使用`require`来导入, NodeJS也是这样做的\n",
    "\n",
    "ES6增加了新的关键词`import`和`export`, 实现了真正的ES module\n",
    "- 每个文件本身是一个module，各个常量、变量、函数、类，如果没有导出(export)的话，都是该module私有的；\n",
    "- 每个module都会导出一些数据，供其它显示地导入(import)该module的module使用"
   ]
  },
  {
   "cell_type": "markdown",
   "id": "5c530a02-ecfb-4560-9032-dada629fb7b2",
   "metadata": {},
   "source": [
    "导出：\n",
    "```js\n",
    "export const PI = Math.PI;\n",
    "export function degreesToRadians(d) { return d * PI / 180; }\n",
    "export class Circle {\n",
    "constructor(r) { this.r = r; }\n",
    "area() { return PI * this.r * this.r; }\n",
    "}\n",
    "```\n",
    "可以一次性导出多个数据：\n",
    "```js\n",
    "export { Circle, degreesToRadians, PI }; // 注意： 这个不是object字面量\n",
    "```\n",
    "如果只导入一个数据，用`export default`会稍微更方便一点，可以导出匿名的数据\n",
    "```js\n",
    "export default {name: 'John', age: 10}; // 这是一个object 字面量\n",
    "```\n",
    "\n",
    "注意：\n",
    "- `export default`可以与`export`混用，但是`export default`只能出现一次\n",
    "- `export`只能出现在顶层，不能出现在函数、类、for循环等块的内部"
   ]
  },
  {
   "cell_type": "markdown",
   "id": "c9b5ff38-fad8-441d-924f-ccdb6815daf2",
   "metadata": {},
   "source": [
    "## 函数参数\n",
    "- 函数定义中的形参(parameters)可以带默认值\n",
    "\n",
    "```js\n",
    "function f (x, y = 7, z = 42) {\n",
    "    return x + y + z\n",
    "}\n",
    "f(1) === 50\n",
    "```\n",
    "- 函数定义中可以使用rest形参来接收多余的参数\n",
    "\n",
    "```js\n",
    "function f (x, y, ...a) {\n",
    "    return (x + y) * a.length\n",
    "}\n",
    "f(1, 2, \"hello\", true, 7) === 9\n",
    "```"
   ]
  },
  {
   "cell_type": "markdown",
   "id": "5b605199-49ef-4d4b-a83f-6bb4220c5e41",
   "metadata": {},
   "source": [
    "- 函数调用中实参(arguments)可以使用spread操作符，将一个集合展开\n",
    "\n",
    "```js\n",
    "let params = [ \"hello\", true, 7 ]\n",
    "let other = [ 1, 2, ...params ] // [ 1, 2, \"hello\", true, 7 ]\n",
    "\n",
    "function f (x, y, ...a) {\n",
    "    return (x + y) * a.length\n",
    "}\n",
    "f(1, 2, ...params) === 9\n",
    "\n",
    "var str = \"foo\"\n",
    "var chars = [ ...str ] // [ \"f\", \"o\", \"o\" ]\n",
    "```"
   ]
  }
 ],
 "metadata": {
  "celltoolbar": "幻灯片",
  "kernelspec": {
   "display_name": "Python 3",
   "language": "python",
   "name": "python3"
  },
  "language_info": {
   "codemirror_mode": {
    "name": "ipython",
    "version": 3
   },
   "file_extension": ".py",
   "mimetype": "text/x-python",
   "name": "python",
   "nbconvert_exporter": "python",
   "pygments_lexer": "ipython3",
   "version": "3.8.8"
  },
  "toc-autonumbering": true
 },
 "nbformat": 4,
 "nbformat_minor": 5
}
