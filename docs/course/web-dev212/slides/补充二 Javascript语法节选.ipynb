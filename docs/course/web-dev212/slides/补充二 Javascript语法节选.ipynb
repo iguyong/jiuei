{
 "cells": [
  {
   "cell_type": "markdown",
   "id": "fb19de4f",
   "metadata": {
    "slideshow": {
     "slide_type": "slide"
    }
   },
   "source": [
    "<div class=\"title\">补充二 Javascript语法节选</div>\n",
    "\n",
    "1. JS介绍\n",
    "2. 数据类型\n",
    "3. 一些概念\n",
    "4. ES6新特性"
   ]
  },
  {
   "cell_type": "markdown",
   "id": "0b30aab2",
   "metadata": {
    "slideshow": {
     "slide_type": "slide"
    }
   },
   "source": [
    "# JS介绍\n",
    "* 弱数据类型：不同数据类型可以直接操作\n",
    "* 脚本语言（解释性语言）：无预先编译，直接运行\n",
    "* 动态：变量本身无类型，可以将变量看作一个标签（只是一个名字，不含类型信息），使用 var, let, const 来声明; 变量的类型是“运行”时检测并判断的\n",
    "* 面向对象（原型）：与静态语言中的类和对象不同，JS的面向对象是基于原型的\n",
    "* 基于事件驱动：在浏览器中JS的主程序是一个单线程，初始化后进入事件循环，监听事件的发生并执行\n",
    "* 需要宿主环境：最早是用于浏览器，后来也扩展到本地（仍然需要类似NodeJS之类的运行环境），不能编译成二进制代码，直接运行在机器上"
   ]
  },
  {
   "cell_type": "markdown",
   "id": "11fc4b69",
   "metadata": {
    "slideshow": {
     "slide_type": "slide"
    }
   },
   "source": [
    "# 数据类型\n",
    "数据具有三样东西：标签(变量名)、值、类型; \n",
    "- 每个值会存储在某个内存处，可能有多个名字“指向”它；\n",
    "- 值有两种：可变的(基本数据类型) 和不可变的(对象数据类型）\n",
    "\n",
    "正确地理解\"赋值\": <span class=\"alert-danger\">将一个表达式 `expr` 的值赋值给一个名字 `name`</span> "
   ]
  },
  {
   "cell_type": "markdown",
   "id": "2a646c16",
   "metadata": {
    "slideshow": {
     "slide_type": "slide"
    }
   },
   "source": [
    "正确地理解\"赋值\": <span class=\"alert-danger\">将一个表达式 `expr` 的值赋值给一个名字 `name`</span> \n",
    "1. 最常见的形式是 `=` 赋值操作符, 例如: `x = y`\n",
    "    - 还有其它形式, 例如: 函数调用时实参\"赋值\"给形参 \n",
    "1. 执行\"赋值\"时，先计算`expr`的值，该值会存储在某处内存\n",
    "    - 这个内存可能是有名字的, 例如: `x = y` 中`y`的值存储在一个名字为`y`的内存处\n",
    "    - 也可能是没有名字的, 例如: `x = y + 3`中的`y+3`是一个\"临时值\"，存储在没有名字的内存处\n",
    "1. \"赋值\"的本质上是将name这个名字（也可看作指针）指向`expr`所在的内存地址，相当于c++中的“传引用”；\n",
    "    - 对于对象类型的expr，“传引用”很合理，因为这样不需要复制，效率更高\n",
    "    - 对于基本数据类型的expr, “传引用”和“传值”没有区别, 因为基本数据类型的值是不可变的（例如`string`不可以给子串赋值)\n",
    "    - 若name在赋值前就已经指向了某个内存，那么该内存就会\"丢失\" 这个名字，若一个内存没有任何名字指向它，该内存随后会被销毁"
   ]
  },
  {
   "cell_type": "markdown",
   "id": "c38644c4-28d4-4446-919f-1a8356fad829",
   "metadata": {
    "slideshow": {
     "slide_type": "slide"
    }
   },
   "source": [
    "* 基本（primitive)类型：number, string, boolean, null, undefined, symbol\n",
    "    - 值是不可变的\n",
    "    \n",
    "    ```js\n",
    "    let a = \"abc\"; \n",
    "    a = \"hello\";  \n",
    "    a[2] = 'e'; // 非法，会报错\n",
    "    let b = a;\n",
    "    b = \"hi\";\n",
    "    console.log(a); // \"hello\"\n",
    "    ```\n",
    "* 复合类型：数组(Array), 函数(Function), 对象(Object)\n",
    "    - 复合数据类型，是多个其它类型数据的集合\n",
    "    - 值是可变的\n",
    "    \n",
    "    ```js\n",
    "    let a = {name: 'x', age: 10};\n",
    "    a.name = 'y'; // a的值是可变的，a\n",
    "    ```\n",
    "    - 数组是动态的，元素的类型不需要相同，可以是任意类型，可以增删; 本质上是一种object子类\n",
    "    - 函数也是值，本质上是一种Object子类"
   ]
  },
  {
   "cell_type": "markdown",
   "id": "871e0bd7-0719-4f9f-a8f4-2727c9756296",
   "metadata": {
    "slideshow": {
     "slide_type": "slide"
    }
   },
   "source": [
    "```js\n",
    "typeof(function(){return 3;}) // 'function'\n",
    "typeof({a:1}) // 'object'\n",
    "typeof(['a',1]) // 'object'\n",
    "\n",
    "//判断是否为数组类型需要用其它方式\n",
    "['a', 1] instanceof Array;  // true\n",
    "Array.isarray(['a',1]); // true\n",
    "```"
   ]
  },
  {
   "cell_type": "markdown",
   "id": "2682d46c",
   "metadata": {
    "slideshow": {
     "slide_type": "slide"
    }
   },
   "source": [
    "# 一些概念\n",
    "字面量（literal）：手写的某种数据类型的值。例如：\n",
    "- number literal: `1, -3, 1e3, 0xFF`\n",
    "- string literal: `\"hi\", 'hello', \"I'm fine\"`\n",
    "- Object literal: `{a: 1; b: 'hi', c: undefined}`\n",
    "- Array literal: `['hi', -3, {a: 1, b: 'hi'}]`"
   ]
  },
  {
   "cell_type": "markdown",
   "id": "abbbbc02",
   "metadata": {
    "slideshow": {
     "slide_type": "slide"
    }
   },
   "source": [
    "表达式(expression)：可以评估(计算)出一个值的“短语”。例如：\n",
    "- 初级表达式：初级字面量（字符串，数字）, 标识符（变量名）, 某些关键字(undefined, this等)\n",
    "- 操作符表达式：由若干个表达式经过操作符得到的结果, 例如 `3 + 'hi'`, `3 <= 4`, `a = [1,2]`, `a=3, b=4`\n",
    "- 函数定义表达式：传统函数表达式`function (a){ return a + 1; }`, 箭头函数表达式 `(a) => { return a + 1 }`\n",
    "- 属性访问表达式：`p.name`, `p[key]`\n",
    "- 函数调用表达式：`fun(2)`, `a.sort()`\n",
    "- 对象构造表达式：`new Point(2,3)`\n",
    "- 复合字面量表达式：数组字面量, 对象字面量\n",
    "\n",
    "注意：除了初级表达式外，各类表达式中可能包含其它类型的表达式\n",
    "\n",
    "参考：[MDN: Expressions and Operators](https://developer.mozilla.org/en-US/docs/Web/JavaScript/Reference#expressions_and_operators)"
   ]
  },
  {
   "cell_type": "markdown",
   "id": "28329881-7967-476d-a7d4-d7fac29ed0a1",
   "metadata": {
    "slideshow": {
     "slide_type": "slide"
    },
    "tags": []
   },
   "source": [
    "一个JS程序是由一条条语句(statement)和声明(declaration)\n",
    "- 声明是用来“引入新的名字”的，有的时候会与赋值语句合在一起；声明可以看作在当前块的语句执行前全部读入（hoisting)\n",
    "    - var, let, const\n",
    "    - function, class\n",
    "    - import, export\n",
    "- 语句(statement)是JS的\"runtime\"在运行时执行的代码, 包括：\n",
    "    - 表达式语句\n",
    "    - 复合语句：多条语句用花括号包裹成一条复合语句\n",
    "    - 空语句：`;`\n",
    "    - 条件语句: if, else, switch\n",
    "    - 循环语句: while, do while, for, for of, for in\n",
    "    - 跳转语句: break, continue, return, yield, throw, try/catch/finally\n",
    "    - 其它语句: with, debugger\n",
    "    \n",
    "参考：[MDN: Statements and Declarations](https://developer.mozilla.org/en-US/docs/Web/JavaScript/Reference#statements)"
   ]
  },
  {
   "cell_type": "markdown",
   "id": "72dbacea-6149-4e9e-97c2-de78855d64ba",
   "metadata": {
    "slideshow": {
     "slide_type": "slide"
    }
   },
   "source": [
    "标识符、关键字、运算符、注释、流程控制等语法与c++基本上差不多；对象、函数、数组相对c++要灵活很多，区别很大\n",
    "\n",
    "深入知识：原型（类、继承、构造函数）, 闭包（作用域scope）, 迭代, 异步（回调、promise、async/await), 元编程等\n",
    "\n",
    "Javascript学习参考：\n",
    "- w3school: [中文](https://www.w3school.com.cn/js/index.asp) [英文](https://www.w3schools.com/js/default.asp)\n",
    "- MDN: [中文](https://developer.mozilla.org/zh-CN/docs/Web/JavaScript) [英文](https://developer.mozilla.org/en-US/docs/Web/JavaScript)\n",
    "- https://javascript.info/\n",
    "- Javascript: The Definitive Guide, 7th (Javascript权威指南) [豆瓣](https://book.douban.com/subject/35396470/)\n",
    "- 你不知道的Javascript: [豆瓣](https://book.douban.com/subject/26351021/)"
   ]
  },
  {
   "cell_type": "markdown",
   "id": "057d89c7-6991-46ce-9238-07d82c471574",
   "metadata": {
    "slideshow": {
     "slide_type": "slide"
    },
    "tags": []
   },
   "source": [
    "# ES6新特性\n",
    "ES6(包括以后）增加了许多新的特性，包括新的语法和功能, 这里介绍以下几项：\n",
    "- object字面量(literal)\n",
    "- 箭头(arrow)函数\n",
    "- 模板字符串(template string)\n",
    "- 解构(destructuring)\n",
    "- 模块(module)\n",
    "- 函数参数"
   ]
  },
  {
   "cell_type": "markdown",
   "id": "bdd69a59-10b0-469f-876d-e8a53dc8c7ed",
   "metadata": {
    "slideshow": {
     "slide_type": "slide"
    },
    "tags": []
   },
   "source": [
    "## object字面量\n",
    "```js\n",
    "let obj = {\n",
    "    // 原型 __proto__\n",
    "    __proto__: theProtoObj,\n",
    "    handler, // handler: handler 的简写\n",
    "    \n",
    "    // 方法，可以看作 toString: function(){} 的简写\n",
    "    toString() {\n",
    "     // Super calls\n",
    "     return \"d \" + super.toString();\n",
    "    },\n",
    "    // 使用表达式作为属性名称\n",
    "    [ 'prop_' + (() => 42)() ]: 42\n",
    "};\n",
    "```"
   ]
  },
  {
   "cell_type": "markdown",
   "id": "da7260b3-be38-4290-a8b4-5466c605e1f4",
   "metadata": {
    "slideshow": {
     "slide_type": "slide"
    },
    "tags": []
   },
   "source": [
    "## 箭头(arrow)函数表达式\n",
    "传统的<mark>函数表达式</mark>的简写, 使用 `=>`。与传统的函数表达式相比，语法有所不同，而且还有一些限制\n",
    "\n",
    "```js\n",
    "// 一般形式：删掉关键字 'function'，在形参列表和函数体之间加上 '=>'\n",
    "let fn1 = (x,y) => { \n",
    "    if (x % 2 === 0) {\n",
    "        return y+1;\n",
    "    }else{\n",
    "        return y*2;\n",
    "    }\n",
    "}\n",
    "\n",
    "// 如果函数体中只有 'return <expr>', 可以省略花括号和 'return'\n",
    "let fn2 = (x,y) => x+y\n",
    "\n",
    "// 如果只有一个形参，可以省略形参的括号\n",
    "let fn4 = x => x*2;\n",
    "```\n",
    "注意: 箭头函数不能绑定this, 函数体中的 `this` 会指向“箭头函数所在的环境”中的`this`, 具体参见: [MDN: Arrow function expression](https://developer.mozilla.org/en-US/docs/Web/JavaScript/Reference/Functions/Arrow_functions)"
   ]
  },
  {
   "cell_type": "markdown",
   "id": "8f735ac9-f1a5-4e86-a7db-4758ebc6b7b6",
   "metadata": {
    "slideshow": {
     "slide_type": "slide"
    },
    "tags": []
   },
   "source": [
    "## 模板字符串\n",
    "可以使用反引号来写表示字符串\n",
    "\n",
    "```js\n",
    "// 反引号中不需要转义，例如可以直接换行来表示换行，不需要 \\n\n",
    "let Root = {\n",
    "    template: `\n",
    "<h1>title</h1>\n",
    "<p> content </p>\n",
    "`\n",
    "};\n",
    "// 可以使用插值, 表达式中的值只会在运行时计算一次，后面不会再更新\n",
    "let x = 1, y = 2;\n",
    "let content = `the sum is ${x+y} `; // 'the sum is 3'\n",
    "```"
   ]
  },
  {
   "cell_type": "markdown",
   "id": "6f49560c-eea2-439e-812d-7267f00274f0",
   "metadata": {
    "slideshow": {
     "slide_type": "slide"
    },
    "tags": []
   },
   "source": [
    "## 解构(destructruing)赋值\n",
    "将数组或对象中的值解包（unpack)赋值给多个值\n",
    "```js\n",
    "// 数组匹配\n",
    "let [a, , b] = [1,2,3,4]; // a == 1, b == 3\n",
    "\n",
    "// 对象匹配\n",
    "const o = {p: 42, q: true};\n",
    "const {p: foo, q: bar} = o;\n",
    "console.log(foo); // 42\n",
    "console.log(bar); // true\n",
    "\n",
    "// 对象匹配的简写\n",
    "let {p,q} = o; // 等价于 {p:p, q:q} = o;\n",
    "```"
   ]
  },
  {
   "cell_type": "markdown",
   "id": "a7896e9f-95e2-4ef6-907b-418945416544",
   "metadata": {
    "slideshow": {
     "slide_type": "slide"
    },
    "tags": []
   },
   "source": [
    "```js\n",
    "// 用于形参中（形参可以类比赋值中的左边）\n",
    "function g({name: x}) {\n",
    "  console.log(x);\n",
    "}\n",
    "let p = {name: 'gy', age: 10};\n",
    "g(p)\n",
    "\n",
    "// 不存在则为 undefined\n",
    "var [a] = [];\n",
    "a === undefined;\n",
    "\n",
    "// 可以使用默认值\n",
    "var [a = 1] = [];\n",
    "a === 1;\n",
    "let {p:foo = 7, q:bar} = o;\n",
    "```"
   ]
  },
  {
   "cell_type": "markdown",
   "id": "4f36ee78-3359-43cc-8a52-af2ae1f7feab",
   "metadata": {
    "slideshow": {
     "slide_type": "slide"
    },
    "tags": []
   },
   "source": [
    "还可以嵌套:\n",
    "```js\n",
    "const metadata = {\n",
    "  title: 'Scratchpad',\n",
    "  translations: [\n",
    "    {\n",
    "      url: '/de/docs/Tools/Scratchpad',\n",
    "      title: 'JavaScript-Umgebung'\n",
    "    }\n",
    "  ],\n",
    "  url: '/en-US/docs/Tools/Scratchpad'\n",
    "};\n",
    "\n",
    "let {\n",
    "  title: englishTitle, // rename\n",
    "  translations: [\n",
    "    {\n",
    "       title: localeTitle, // rename\n",
    "    },\n",
    "  ],\n",
    "} = metadata;\n",
    "\n",
    "console.log(englishTitle); // \"Scratchpad\"\n",
    "console.log(localeTitle);  // \"JavaScript-Umgebung\"\n",
    "```"
   ]
  },
  {
   "cell_type": "markdown",
   "id": "f9baeaf4-4c3e-4aff-94d5-108b1f921c47",
   "metadata": {
    "slideshow": {
     "slide_type": "slide"
    },
    "tags": []
   },
   "source": [
    "## 模块(Module)\n",
    "模块化（modularity)编程:\n",
    "- 封装性：隐藏实现细节，只暴露接口\n",
    "- 保持命名空间整洁，互不干扰\n",
    "- 不同模块分布不同的文件中\n",
    "\n",
    "ES6之前不支持模块化，实际使用中通过闭包（closure)和代码bundle（拼接）工具来实现模块化：\n",
    "- 类(class)、对象(object)有一定的\"封装性\"：有各自的命名空间，但是不能隐藏实现细节\n",
    "- 闭包(clousure)可以隐藏实现细节，加上bundle工具，即可实现模块化，在浏览器中很常见\n",
    "- 后端NodeJS也是这样实现模块化的：使用`require`函数导入，通过给`module.exports`对象赋值来导出, 但未成为JS的官方标准"
   ]
  },
  {
   "cell_type": "markdown",
   "id": "597acd1d-c51c-4a31-9fdc-37b2bb6e950d",
   "metadata": {
    "slideshow": {
     "slide_type": "slide"
    },
    "tags": []
   },
   "source": [
    "ES6增加了新的关键词`import`和`export`, 称为ES module\n",
    "- 每个文件自身是一个module，各个常量、变量、函数、类，如果没有导出(export)的话，都是该module私有的\n",
    "- 每个module都可以导出一些数据，供其它module（通过导入来）使用\n",
    "\n",
    "注意：\n",
    "- 以前学的`<script>`标签导入的JS代码的顶层名字，都会成为全局名字，可能有名字冲突"
   ]
  },
  {
   "cell_type": "markdown",
   "id": "eba15ee4-1cca-4536-a0c5-1fbf35829ee3",
   "metadata": {
    "slideshow": {
     "slide_type": "slide"
    },
    "tags": []
   },
   "source": [
    "### 导出值\n",
    "若要导出某个名字（变量、函数、类），在其声明前加上`export`：\n",
    "\n",
    "```js\n",
    "// geometry.js\n",
    "export const PI = Math.PI;\n",
    "export function degreesToRadians(d) { return d * PI / 180; }\n",
    "export class Circle {\n",
    "constructor(r) { this.r = r; }\n",
    "    area() { return PI * this.r * this.r; }\n",
    "}\n",
    "```\n",
    "可以一次性导出多个名字：\n",
    "```js\n",
    "export { Circle, degreesToRadians, PI }; \n",
    "// 注意： 这个不是object字面量，里面只能是标识符，不能是表达式\n",
    "```"
   ]
  },
  {
   "cell_type": "markdown",
   "id": "0fd18249-79a6-4fd4-8c8e-d5b061e2d6f6",
   "metadata": {
    "slideshow": {
     "slide_type": "slide"
    },
    "tags": []
   },
   "source": [
    "如果整个模块只导出一个值，可以用`export default`，后接一个任意的表达式（好处：不用起名字，并且在导入时更方便）\n",
    "```js\n",
    "//person.js\n",
    "export default {name: 'John', age: 10}; // 这是一个object 字面量\n",
    "```\n",
    "\n",
    "注意：\n",
    "- `export default`可以与常规`export`混用，但是`export default`只能出现一次\n",
    "- `export` 和 `export default` 只能出现在顶层，不能出现在函数、类、for循环等块的内部"
   ]
  },
  {
   "cell_type": "markdown",
   "id": "23b54a2e-aa24-4f71-9adc-f86ffa7ad4d4",
   "metadata": {
    "slideshow": {
     "slide_type": "slide"
    },
    "tags": []
   },
   "source": [
    "### 导入值\n",
    "* 对于常规`export`导出的值：有名字\n",
    "```js\n",
    "import {Circle, PI} from './geometry.js'; // 导入 geometry.js 文件导出的 Circle, PI这两个(常量）名字\n",
    "import * as geo from './geometry.js'; // 导入 geometry.js 文件导出的所有名字，成为一个空的名为geo的object的“常量”属性, \n",
    "```\n",
    "\n",
    "* 对于`export default`导出的值：无名字，需起新的名字\n",
    "```js\n",
    "// 将 person.js 文件中 export default 的值赋值给常量 john\n",
    "import john from './person.js';  // 注意路径不要写成 'person.js'\n",
    "```"
   ]
  },
  {
   "cell_type": "markdown",
   "id": "8f305553-f975-40fd-8fcc-6c643a4cf54a",
   "metadata": {
    "slideshow": {
     "slide_type": "slide"
    },
    "tags": []
   },
   "source": [
    "* 可以同时导入`export default`和常规`export`导出的值\n",
    "```js\n",
    "import Histogram, { mean, stddev } from \"./histogram-stats.js\";\n",
    "```\n",
    "\n",
    "* `import` 也可以不导入值，仅执行其中的代码\n",
    "```js\n",
    "import './geometry';\n",
    "```\n",
    "注意：\n",
    "- 与`export`相同，`import`只能出现在顶层，不能出现在函数、类、for循环等块的内部\n",
    "- `from` 后面需是一个单引号（或双引号）包含的字符串，代表模块的路径；\n",
    "- 路径可以是`/`开头的绝对路径、`./`或`../`开头的相对路径、带https等协议名字的完整url, 尽量不要直接是一个文件名，可能会出问题\n",
    "- 导入的名字都是常量"
   ]
  },
  {
   "cell_type": "markdown",
   "id": "b452e05f-3c39-40f1-be0d-91d9123fffd2",
   "metadata": {
    "slideshow": {
     "slide_type": "slide"
    },
    "tags": []
   },
   "source": [
    "### 重新起名\n",
    "为了防止名字冲突，使用`import`时可以起个新的名字\n",
    "\n",
    "```js\n",
    "import {Circle as cir, PI as pi} from './geometry.js';\n",
    "\n",
    "//export default导出的值，在导入时可以直接起新的名字，也可以用 default 来起新的名字\n",
    "import {default as Histogram, { mean, stddev as sd} from \"./histogram-stats.js\"\n",
    "```\n",
    "在用`export`导出时，也可以起新的名字：只能用于 `export {}` 形式\n",
    "\n",
    "```js\n",
    "export {\n",
    "    layout as calculateLayout,\n",
    "    render as renderLayout\n",
    "};\n",
    "```\n",
    "* 再次注意：`{}`部分不是object 字面量"
   ]
  },
  {
   "cell_type": "markdown",
   "id": "6479033d-6290-41cd-b3d5-c4d5d61f057e",
   "metadata": {
    "slideshow": {
     "slide_type": "slide"
    },
    "tags": []
   },
   "source": [
    "### 重新导出\n",
    "有时导入某个值，只是为了再次导出它，而不在本文件中使用\n",
    "```js\n",
    "import { mean } from \"./stats/mean.js\";\n",
    "import { stddev } from \"./stats/stddev.js\";\n",
    "export { mean, stdev };\n",
    "```\n",
    "为了方便，可以直接导出\n",
    "```js\n",
    "export { mean } from \"./stats/mean.js\";\n",
    "export { stddev } from \"./stats/stddev.js\";\n",
    "\n",
    "export * from \"./stats/mean.js\";\n",
    "export * from \"./stats/stddev.js\";\n",
    "// 起新的名字\n",
    "export { mean, mean as average } from \"./stats/mean.js\";\n",
    "\n",
    "// export 和 export default转换\n",
    "export { default as mean } from \"./stats/mean.js\";\n",
    "export { mean as default } from \"./stats.js\"\n",
    "export { default } from \"./stats/mean.js\"\n",
    "```"
   ]
  },
  {
   "cell_type": "markdown",
   "id": "ac4e490d-7663-4ee7-a852-4f9d6931d702",
   "metadata": {
    "slideshow": {
     "slide_type": "slide"
    },
    "tags": []
   },
   "source": [
    "### 在html中使用\n",
    "在 html 的 `<script>` 中使用import, export, 需指定 `type=\"module\"`\n",
    "\n",
    "```html\n",
    "<script type=\"module\">\n",
    "import { createApp } from \"https://unpkg.com/vue@3/dist/vue.esm-browser.js\";\n",
    "</script>\n",
    "```\n",
    "\n",
    "* 这种方式定义的module没有名字，不能在其它地方导入。因此，里面用`export`没有意义\n",
    "* 这种script不是同步加载的，整个网页文档加载完后才加载（与具有`defer`属性的script相同）\n",
    "* 要想使用 module, 需使用`vue.esm-browser.js`这个文件"
   ]
  },
  {
   "cell_type": "markdown",
   "id": "d3932423-0963-432c-abb1-a1310a2fef6d",
   "metadata": {
    "slideshow": {
     "slide_type": "slide"
    },
    "tags": []
   },
   "source": [
    "可以使用importmap给module的路径起个简写名字\n",
    "\n",
    "```html \n",
    "<script type=\"importmap\">\n",
    "  {\n",
    "    \"imports\": {\n",
    "      \"vue\": \"https://unpkg.com/vue@3/dist/vue.esm-browser.js\"\n",
    "    }\n",
    "  }\n",
    "</script>\n",
    "```\n",
    "有了以上的简写，可以使用以下代码导入\n",
    "```html\n",
    "<script type=\"module\">\n",
    "import { createApp } from 'vue'\n",
    "</script>\n",
    "```"
   ]
  },
  {
   "cell_type": "markdown",
   "id": "c9b5ff38-fad8-441d-924f-ccdb6815daf2",
   "metadata": {
    "slideshow": {
     "slide_type": "slide"
    },
    "tags": []
   },
   "source": [
    "## 函数参数\n",
    "- 函数定义中的形参(parameters)可以带默认值\n",
    "\n",
    "```js\n",
    "function f (x, y = 7, z = 42) {\n",
    "    return x + y + z\n",
    "}\n",
    "f(1) === 50\n",
    "```\n",
    "- 函数定义中可以使用rest形参来接收多余的参数\n",
    "\n",
    "```js\n",
    "function f (x, y, ...a) {\n",
    "    return (x + y) * a.length\n",
    "}\n",
    "f(1, 2, \"hello\", true, 7) === 9\n",
    "```"
   ]
  },
  {
   "cell_type": "markdown",
   "id": "5b605199-49ef-4d4b-a83f-6bb4220c5e41",
   "metadata": {
    "slideshow": {
     "slide_type": "slide"
    },
    "tags": []
   },
   "source": [
    "- 函数调用中实参(arguments)可以使用spread操作符，将一个集合展开\n",
    "\n",
    "```js\n",
    "let params = [ \"hello\", true, [7,3] ]\n",
    "let other = [ 1, 2, ...params ] // [ 1, 2, \"hello\", true, [7,3 ]\n",
    "\n",
    "function f (x, y, ...a) {  // 这里是rest形参，不是spread操作符\n",
    "    return (x + y) * a.length\n",
    "}\n",
    "f(1, 2, ...params) === 9\n",
    "\n",
    "var str = \"foo\"\n",
    "var chars = [ ...str ] // [ \"f\", \"o\", \"o\" ]\n",
    "```"
   ]
  }
 ],
 "metadata": {
  "celltoolbar": "Slideshow",
  "kernelspec": {
   "display_name": "Python 3",
   "language": "python",
   "name": "python3"
  },
  "language_info": {
   "codemirror_mode": {
    "name": "ipython",
    "version": 3
   },
   "file_extension": ".py",
   "mimetype": "text/x-python",
   "name": "python",
   "nbconvert_exporter": "python",
   "pygments_lexer": "ipython3",
   "version": "3.8.8"
  },
  "toc-autonumbering": true
 },
 "nbformat": 4,
 "nbformat_minor": 5
}
